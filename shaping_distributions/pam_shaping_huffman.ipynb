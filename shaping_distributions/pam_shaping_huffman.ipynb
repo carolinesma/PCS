{
 "cells": [
  {
   "cell_type": "code",
   "execution_count": 1,
   "id": "09293aec",
   "metadata": {},
   "outputs": [],
   "source": [
    "import numpy as np\n",
    "from Huffman_Code import HuffmanShaping, GeometricHuffmanCode\n",
    "from HuffmanMatching.utils import GaussHermiteModulation, RandomWalkModulation, DiscretisedGaussianModulation"
   ]
  },
  {
   "cell_type": "code",
   "execution_count": 2,
   "id": "a74f447b",
   "metadata": {},
   "outputs": [],
   "source": [
    "class results:\n",
    "    def __init__(self):\n",
    "        self.constellation_size = []\n",
    "        self.distribution = []\n",
    "        self.huffman_shaping = []\n",
    "        self.huffman_geometric = []"
   ]
  },
  {
   "cell_type": "code",
   "execution_count": null,
   "id": "4379853a",
   "metadata": {},
   "outputs": [],
   "source": [
    "#Qual variância usar?\n",
    "variance = 1\n",
    "\n",
    "gausshermite_results = results()\n",
    "for N in range(3, 34, 3):\n",
    "    gausshermite_results.constellation_size.append(N)\n",
    "    gausshermite_distribution = GaussHermiteModulation(N, variance).probas\n",
    "    gausshermite_results.distribution.append(gausshermite_distribution)\n",
    "    symbols = list(range(N))\n",
    "    huffman_shaping = HuffmanShaping(symbols, gausshermite_distribution, suffixes = [\"0\", \"1\"])\n",
    "    huffman_shaping = huffman_shaping.get_output_distribution()\n",
    "    #confirmar sobre o resultado do huffman shaping\n",
    "    gausshermite_results.huffman_shaping.append(huffman_shaping)\n",
    "    huffman_geometric = GeometricHuffmanCode(symbols, gausshermite_distribution).dyadic_distribution\n",
    "    gausshermite_results.huffman_geometric.append(huffman_geometric)"
   ]
  },
  {
   "cell_type": "code",
   "execution_count": 38,
   "id": "68e46663",
   "metadata": {},
   "outputs": [],
   "source": [
    "binomial_results = results()\n",
    "for N in range(3, 34, 3):\n",
    "    binomial_results.constellation_size.append(N)\n",
    "    bonomial_distribution = RandomWalkModulation(N, variance).probas\n",
    "    binomial_results.distribution.append(gausshermite_distribution)\n",
    "    symbols = list(range(N))\n",
    "    huffman_shaping = HuffmanShaping(symbols, gausshermite_distribution, suffixes = [\"0\", \"1\"])\n",
    "    huffman_shaping = huffman_shaping.get_output_distribution()\n",
    "    binomial_results.huffman_shaping.append(huffman_shaping)\n",
    "    huffman_geometric = GeometricHuffmanCode(symbols, gausshermite_distribution).dyadic_distribution\n",
    "    binomial_results.huffman_geometric.append(huffman_geometric)"
   ]
  },
  {
   "cell_type": "code",
   "execution_count": 39,
   "id": "fbefc277",
   "metadata": {},
   "outputs": [],
   "source": [
    "gaussian_results = results()\n",
    "for N in range(3, 34, 3):\n",
    "    gaussian_results.constellation_size.append(N)\n",
    "    gaussian_distribution = DiscretisedGaussianModulation(N).probas\n",
    "    gaussian_results.distribution.append(gausshermite_distribution)\n",
    "    symbols = list(range(N))\n",
    "    huffman_shaping = HuffmanShaping(symbols, gausshermite_distribution, suffixes = [\"0\", \"1\"])\n",
    "    huffman_shaping = huffman_shaping.get_output_distribution()\n",
    "    gaussian_results.huffman_shaping.append(huffman_shaping)\n",
    "    huffman_geometric = GeometricHuffmanCode(symbols, gausshermite_distribution).dyadic_distribution\n",
    "    gaussian_results.huffman_geometric.append(huffman_geometric)"
   ]
  },
  {
   "cell_type": "markdown",
   "id": "11fcf2a6",
   "metadata": {},
   "source": [
    "#### testes"
   ]
  },
  {
   "cell_type": "code",
   "execution_count": 11,
   "id": "23ac4ffa",
   "metadata": {},
   "outputs": [
    {
     "name": "stdout",
     "output_type": "stream",
     "text": [
      "[0.1666666666666666, 0.6666666666666669, 0.1666666666666666]\n",
      "[-1.7320508075688774, 0.0, 1.7320508075688774]\n"
     ]
    }
   ],
   "source": [
    "constallation_size = 3\n",
    "variance = 1\n",
    "gausshermite_distribution = GaussHermiteModulation(constallation_size, variance)\n",
    "print(gausshermite_distribution.probas)\n",
    "print(gausshermite_distribution.alphas)"
   ]
  },
  {
   "cell_type": "code",
   "execution_count": 12,
   "id": "d9a62032",
   "metadata": {},
   "outputs": [
    {
     "name": "stdout",
     "output_type": "stream",
     "text": [
      "[0.25 0.5  0.25]\n",
      "[-1.41421356  0.          1.41421356]\n"
     ]
    }
   ],
   "source": [
    "bonomial_distribution = RandomWalkModulation(constallation_size, variance)\n",
    "print(bonomial_distribution.probas)\n",
    "print(bonomial_distribution.alphas)"
   ]
  },
  {
   "cell_type": "code",
   "execution_count": 13,
   "id": "072c92ee",
   "metadata": {},
   "outputs": [
    {
     "name": "stdout",
     "output_type": "stream",
     "text": [
      "[0.0312851 0.9374298 0.0312851]\n",
      "[-3.99775562  0.          3.99775562]\n"
     ]
    }
   ],
   "source": [
    "gaussian_distribution = DiscretisedGaussianModulation(constallation_size)\n",
    "print(gaussian_distribution.probas)\n",
    "print(gaussian_distribution.alphas)"
   ]
  }
 ],
 "metadata": {
  "kernelspec": {
   "display_name": "Python (pcs-3.12)",
   "language": "python",
   "name": "pcs-3.12.0"
  },
  "language_info": {
   "codemirror_mode": {
    "name": "ipython",
    "version": 3
   },
   "file_extension": ".py",
   "mimetype": "text/x-python",
   "name": "python",
   "nbconvert_exporter": "python",
   "pygments_lexer": "ipython3",
   "version": "3.12.0"
  }
 },
 "nbformat": 4,
 "nbformat_minor": 5
}
