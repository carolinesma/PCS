{
 "cells": [
  {
   "cell_type": "code",
   "execution_count": 2,
   "id": "09293aec",
   "metadata": {},
   "outputs": [],
   "source": [
    "import numpy as np\n",
    "from Huffman_Code import HuffmanTree, HuffmanShaping\n",
    "from HuffmanMatching.utils import GaussHermiteModulation, RandomWalkModulation, DiscretisedGaussianModulation"
   ]
  },
  {
   "cell_type": "code",
   "execution_count": 8,
   "id": "23ac4ffa",
   "metadata": {},
   "outputs": [
    {
     "data": {
      "text/plain": [
       "[0.1666666666666666, 0.6666666666666669, 0.1666666666666666]"
      ]
     },
     "execution_count": 8,
     "metadata": {},
     "output_type": "execute_result"
    }
   ],
   "source": [
    "constallation_size = 3\n",
    "variance = 0.2\n",
    "gausshermite_distribution = GaussHermiteModulation(constallation_size, variance).probas\n",
    "gausshermite_distribution"
   ]
  },
  {
   "cell_type": "code",
   "execution_count": 11,
   "id": "d9a62032",
   "metadata": {},
   "outputs": [],
   "source": [
    "bonomial_distribution = RandomWalkModulation(constallation_size, variance)"
   ]
  },
  {
   "cell_type": "code",
   "execution_count": 9,
   "id": "072c92ee",
   "metadata": {},
   "outputs": [
    {
     "data": {
      "text/plain": [
       "array([0.0625, 0.125 , 0.0625, 0.125 , 0.25  , 0.125 , 0.0625, 0.125 ,\n",
       "       0.0625])"
      ]
     },
     "execution_count": 9,
     "metadata": {},
     "output_type": "execute_result"
    }
   ],
   "source": [
    "bonomial_distribution.probas"
   ]
  },
  {
   "cell_type": "code",
   "execution_count": null,
   "id": "43e328a2",
   "metadata": {},
   "outputs": [],
   "source": []
  }
 ],
 "metadata": {
  "kernelspec": {
   "display_name": "Python (pcs-3.12)",
   "language": "python",
   "name": "pcs-3.12.0"
  },
  "language_info": {
   "codemirror_mode": {
    "name": "ipython",
    "version": 3
   },
   "file_extension": ".py",
   "mimetype": "text/x-python",
   "name": "python",
   "nbconvert_exporter": "python",
   "pygments_lexer": "ipython3",
   "version": "3.12.0"
  }
 },
 "nbformat": 4,
 "nbformat_minor": 5
}
