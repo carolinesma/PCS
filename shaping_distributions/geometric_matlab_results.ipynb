{
 "cells": [
  {
   "cell_type": "code",
   "execution_count": 20,
   "id": "09293aec",
   "metadata": {},
   "outputs": [],
   "source": [
    "import numpy as np\n",
    "from Huffman_Code import HuffmanShaping, GeometricHuffmanCode\n",
    "from HuffmanMatching.utils import GaussHermiteModulation, RandomWalkModulation, DiscretisedGaussianModulation\n",
    "from HuffmanMatching import HuffmanTree\n",
    "from scipy.io import loadmat\n",
    "from scipy.io import savemat"
   ]
  },
  {
   "cell_type": "code",
   "execution_count": null,
   "id": "921ea431",
   "metadata": {},
   "outputs": [],
   "source": [
    "def compare_python_matlab_distributions(py_list, mat_file, mat_key, sizes=None, atol=1e-8):\n",
    "    \"\"\"\n",
    "    Compara listas de distribuições do Python com resultados salvos em arquivo .mat do MATLAB.\n",
    "    py_list: lista de arrays do Python\n",
    "    mat_file: caminho do arquivo .mat\n",
    "    mat_key: chave do array no arquivo .mat\n",
    "    sizes: lista de tamanhos (opcional, para print)\n",
    "    atol: tolerância para comparação\n",
    "    \"\"\"\n",
    "    from scipy.io import loadmat\n",
    "    import numpy as np\n",
    "    mat = loadmat(mat_file)\n",
    "    mat_results = mat[mat_key]\n",
    "\n",
    "    def extract_matlab_cell_array(cell_array):\n",
    "        return [np.squeeze(cell_array[0, i]) if cell_array.shape[0] == 1 else np.squeeze(cell_array[i, 0]) for i in range(cell_array.shape[1] if cell_array.shape[0] == 1 else cell_array.shape[0])]\n",
    "\n",
    "    if isinstance(mat_results, np.ndarray) and mat_results.dtype == 'O':\n",
    "        mat_list = extract_matlab_cell_array(mat_results)\n",
    "    else:\n",
    "        mat_list = [np.squeeze(mat_results)]\n",
    "\n",
    "    for idx, (py_arr, mat_arr) in enumerate(zip(py_list, mat_list)):\n",
    "        py_arr = np.array(py_arr).flatten()\n",
    "        mat_arr = np.array(mat_arr).flatten()\n",
    "        iguais = np.allclose(py_arr, mat_arr, atol=atol)\n",
    "        n_val = sizes[idx] if sizes is not None else idx\n",
    "        print(f'N = {n_val}: Iguais? {iguais}')\n",
    "        if not iguais:\n",
    "            print('Python:', py_arr)\n",
    "            print('MATLAB:', mat_arr)"
   ]
  },
  {
   "cell_type": "code",
   "execution_count": null,
   "id": "c8c1c11d",
   "metadata": {},
   "outputs": [],
   "source": [
    "def save_distributions_to_mat(distributions, filename, key='distributions'):\n",
    "    \"\"\"\n",
    "    Salva uma lista de distribuições em um arquivo .mat para uso no MATLAB.\n",
    "    distributions: lista de arrays numpy\n",
    "    filename: nome do arquivo .mat\n",
    "    key: nome da variável no arquivo (default: 'distributions')\n",
    "    \"\"\"\n",
    "    from scipy.io import savemat\n",
    "    mat_dict = {key: distributions}\n",
    "    savemat(filename, mat_dict)"
   ]
  },
  {
   "cell_type": "code",
   "execution_count": 22,
   "id": "a74f447b",
   "metadata": {},
   "outputs": [],
   "source": [
    "class results:\n",
    "    def __init__(self):\n",
    "        self.constellation_size = []\n",
    "        self.distribution = []\n",
    "        self.huffman_shaping = []\n",
    "        self.huffman_geometric = []"
   ]
  },
  {
   "cell_type": "code",
   "execution_count": 23,
   "id": "6e4f35f9",
   "metadata": {},
   "outputs": [],
   "source": [
    "# parameters\n",
    "\n",
    "variance = 1\n",
    "start = 4\n",
    "stop = 32\n",
    "step = 2"
   ]
  },
  {
   "cell_type": "markdown",
   "id": "5d901f20",
   "metadata": {},
   "source": [
    "### gausshermite"
   ]
  },
  {
   "cell_type": "code",
   "execution_count": 24,
   "id": "4379853a",
   "metadata": {},
   "outputs": [],
   "source": [
    "gausshermite_results = results()\n",
    "for N in range(start, stop+1, step):\n",
    "    gausshermite_results.constellation_size.append(N)\n",
    "    ghm = GaussHermiteModulation(N, variance)\n",
    "    p = ghm.probas\n",
    "    s = ghm.alphas\n",
    "    gausshermite_results.distribution.append(p)\n",
    "    huffman_shaping = HuffmanTree(p, s)\n",
    "    huffman_shaping = huffman_shaping.true_distribution\n",
    "    gausshermite_results.huffman_shaping.append(huffman_shaping)\n",
    "    huffman_geometric = GeometricHuffmanCode(s, p).dyadic_distribution\n",
    "    gausshermite_results.huffman_geometric.append(huffman_geometric)"
   ]
  },
  {
   "cell_type": "code",
   "execution_count": null,
   "id": "685efafa",
   "metadata": {},
   "outputs": [],
   "source": [
    "#save_distributions_to_mat(gausshermite_results.distribution, 'distributions.mat')"
   ]
  },
  {
   "cell_type": "code",
   "execution_count": 33,
   "id": "27ac40c2",
   "metadata": {},
   "outputs": [
    {
     "name": "stdout",
     "output_type": "stream",
     "text": [
      "N = 4: Iguais? True\n",
      "N = 6: Iguais? True\n",
      "N = 8: Iguais? True\n",
      "N = 10: Iguais? True\n",
      "N = 12: Iguais? True\n",
      "N = 14: Iguais? True\n",
      "N = 16: Iguais? True\n",
      "N = 18: Iguais? True\n",
      "N = 20: Iguais? True\n",
      "N = 22: Iguais? True\n",
      "N = 24: Iguais? True\n",
      "N = 26: Iguais? True\n",
      "N = 28: Iguais? True\n",
      "N = 30: Iguais? True\n",
      "N = 32: Iguais? True\n"
     ]
    }
   ],
   "source": [
    "compare_python_matlab_distributions(gausshermite_results.huffman_geometric, 'pghc_results.mat', 'pghc_results', gausshermite_results.constellation_size)"
   ]
  },
  {
   "cell_type": "markdown",
   "id": "3f8b6af3",
   "metadata": {},
   "source": [
    "### gaussian distribution"
   ]
  },
  {
   "cell_type": "code",
   "execution_count": 30,
   "id": "f96382e9",
   "metadata": {},
   "outputs": [],
   "source": [
    "gaussian_results = results()\n",
    "for N in range(start, stop+1, step):\n",
    "    gaussian_results.constellation_size.append(N)\n",
    "    gaussian = DiscretisedGaussianModulation(N, variance)\n",
    "    p = gaussian.probas\n",
    "    s = gaussian.alphas\n",
    "    gaussian_results.distribution.append(p)\n",
    "    huffman_shaping = HuffmanTree(p, s)\n",
    "    huffman_shaping = huffman_shaping.true_distribution\n",
    "    gaussian_results.huffman_shaping.append(huffman_shaping)\n",
    "    huffman_geometric = GeometricHuffmanCode(s, p).dyadic_distribution\n",
    "    gaussian_results.huffman_geometric.append(huffman_geometric)"
   ]
  },
  {
   "cell_type": "code",
   "execution_count": null,
   "id": "d2d58ce8",
   "metadata": {},
   "outputs": [],
   "source": [
    "# Salva os resultados em um arquivo mat\n",
    "# save_distributions_to_mat(gausshermite_results.distribution, 'distributions_gaussian.mat')"
   ]
  },
  {
   "cell_type": "code",
   "execution_count": 31,
   "id": "6321064e",
   "metadata": {},
   "outputs": [
    {
     "name": "stdout",
     "output_type": "stream",
     "text": [
      "N = 4: Iguais? True\n",
      "N = 6: Iguais? True\n",
      "N = 8: Iguais? True\n",
      "N = 10: Iguais? True\n",
      "N = 12: Iguais? True\n",
      "N = 14: Iguais? True\n",
      "N = 16: Iguais? True\n",
      "N = 18: Iguais? True\n",
      "N = 20: Iguais? True\n",
      "N = 22: Iguais? True\n",
      "N = 24: Iguais? True\n",
      "N = 26: Iguais? True\n",
      "N = 28: Iguais? True\n",
      "N = 30: Iguais? True\n",
      "N = 32: Iguais? True\n"
     ]
    }
   ],
   "source": [
    "compare_python_matlab_distributions(gaussian_results.huffman_geometric, 'pghc_results_gaussian.mat', 'pghc_results', gaussian_results.constellation_size)"
   ]
  },
  {
   "cell_type": "code",
   "execution_count": null,
   "id": "49a990fb",
   "metadata": {},
   "outputs": [],
   "source": []
  }
 ],
 "metadata": {
  "kernelspec": {
   "display_name": "Python (pcs)",
   "language": "python",
   "name": "pcs-3.12.0"
  },
  "language_info": {
   "codemirror_mode": {
    "name": "ipython",
    "version": 3
   },
   "file_extension": ".py",
   "mimetype": "text/x-python",
   "name": "python",
   "nbconvert_exporter": "python",
   "pygments_lexer": "ipython3",
   "version": "3.12.0"
  }
 },
 "nbformat": 4,
 "nbformat_minor": 5
}
