{
 "cells": [
  {
   "cell_type": "code",
   "execution_count": 1,
   "id": "09293aec",
   "metadata": {},
   "outputs": [],
   "source": [
    "import numpy as np\n",
    "from Huffman_Code import HuffmanShaping, GeometricHuffmanCode\n",
    "from HuffmanMatching.utils import GaussHermiteModulation, RandomWalkModulation, DiscretisedGaussianModulation\n",
    "from HuffmanMatching import HuffmanTree\n",
    "from shaping_analysis import generate_shaping_results, plot_distributions, plot_kl_vs_constellation_size, constellation_variance\n",
    "\n",
    "np.set_printoptions(precision=5, suppress=True)"
   ]
  },
  {
   "cell_type": "code",
   "execution_count": 2,
   "id": "a74f447b",
   "metadata": {},
   "outputs": [],
   "source": [
    "class results:\n",
    "    def __init__(self):\n",
    "        self.constellation_size = []\n",
    "        self.distribution = []\n",
    "        self.huffman_shaping_matching = []\n",
    "        self.huffman_shaping = []"
   ]
  },
  {
   "cell_type": "code",
   "execution_count": 3,
   "id": "4379853a",
   "metadata": {},
   "outputs": [],
   "source": [
    "variance = 1\n",
    "start = 4\n",
    "stop = 100\n",
    "step = 2\n",
    "\n",
    "data_teste = results()\n",
    "for N in range(start, stop+1, step):\n",
    "    data_teste.constellation_size.append(N)\n",
    "    type_distribution = DiscretisedGaussianModulation(N, var = variance)\n",
    "    p = type_distribution.probas\n",
    "    symbols = type_distribution.alphas\n",
    "    data_teste.distribution.append(p)\n",
    "    half = N // 2\n",
    "    huffman_shaping = HuffmanShaping(symbols[half:], p[half:], suffixes = [\"0\", \"1\"])\n",
    "    #huffman_shaping = huffman_shaping.get_output_distribution()\n",
    "    data_teste.huffman_shaping.append(huffman_shaping)\n",
    "    huffman_shaping_matching = HuffmanTree(p, symbols)\n",
    "    data_teste.huffman_shaping_matching.append(huffman_shaping_matching)"
   ]
  },
  {
   "cell_type": "code",
   "execution_count": 4,
   "id": "b90e4715",
   "metadata": {},
   "outputs": [
    {
     "name": "stdout",
     "output_type": "stream",
     "text": [
      "N = 4 = True\n",
      "N = 6 = True\n",
      "N = 8 = True\n",
      "N = 10 = True\n",
      "N = 12 = True\n",
      "N = 14 = True\n",
      "N = 16 = True\n",
      "N = 18 = True\n",
      "N = 20 = True\n",
      "N = 22 = True\n",
      "N = 24 = True\n",
      "N = 26 = True\n",
      "N = 28 = True\n",
      "N = 30 = True\n",
      "N = 32 = True\n",
      "N = 34 = True\n",
      "N = 36 = True\n",
      "N = 38 = True\n",
      "N = 40 = True\n",
      "N = 42 = True\n",
      "N = 44 = True\n",
      "N = 46 = True\n",
      "N = 48 = True\n",
      "N = 50 = True\n",
      "N = 52 = True\n",
      "N = 54 = True\n",
      "N = 56 = True\n",
      "N = 58 = True\n",
      "N = 60 = True\n",
      "N = 62 = True\n",
      "N = 64 = True\n",
      "N = 66 = True\n",
      "N = 68 = True\n",
      "N = 70 = True\n",
      "N = 72 = True\n",
      "N = 74 = True\n",
      "N = 76 = True\n",
      "N = 78 = True\n",
      "N = 80 = True\n",
      "N = 82 = True\n",
      "N = 84 = True\n",
      "N = 86 = True\n",
      "N = 88 = True\n",
      "N = 90 = True\n",
      "N = 92 = True\n",
      "N = 94 = True\n",
      "N = 96 = True\n",
      "N = 98 = True\n",
      "N = 100 = True\n"
     ]
    }
   ],
   "source": [
    "for i in range(len(data_teste.huffman_shaping)):\n",
    "    arr1 = data_teste.huffman_shaping[i].get_output_distribution()\n",
    "    arr2 = data_teste.huffman_shaping_matching[i].true_distribution\n",
    "    print(f\"N = {data_teste.constellation_size[i]} = {np.array_equal(arr1, arr2)}\")"
   ]
  },
  {
   "cell_type": "markdown",
   "id": "11fcf2a6",
   "metadata": {},
   "source": [
    "#### distributions testes"
   ]
  },
  {
   "cell_type": "code",
   "execution_count": 9,
   "id": "e2c41b67",
   "metadata": {},
   "outputs": [],
   "source": [
    "constallation_size = 16\n",
    "variance = 1"
   ]
  },
  {
   "cell_type": "code",
   "execution_count": 10,
   "id": "23ac4ffa",
   "metadata": {},
   "outputs": [
    {
     "name": "stdout",
     "output_type": "stream",
     "text": [
      "[1.4978147231618412e-10, 1.309473216286817e-07, 1.530003216248732e-05, 0.0005259849265739087, 0.007266937601184749, 0.04728475235401406, 0.1583383727509497, 0.286568521238012, 0.286568521238012, 0.1583383727509497, 0.04728475235401406, 0.007266937601184749, 0.0005259849265739087, 1.530003216248732e-05, 1.309473216286817e-07, 1.4978147231618412e-10]\n",
      "[-6.630878198393127, -5.4722257059493415, -4.492955302520009, -3.6008736241715473, -2.7602450476307006, -1.9519803457163327, -1.1638291005549644, -0.38676060450055727, 0.38676060450055727, 1.1638291005549644, 1.9519803457163327, 2.7602450476307006, 3.6008736241715473, 4.492955302520009, 5.4722257059493415, 6.630878198393127]\n",
      "Variância = 1.0\n"
     ]
    }
   ],
   "source": [
    "gausshermite_distribution = GaussHermiteModulation(constallation_size, variance)\n",
    "p = gausshermite_distribution.probas\n",
    "s = gausshermite_distribution.alphas\n",
    "print(p)\n",
    "print(s)\n",
    "\n",
    "V = constellation_variance(s, p)\n",
    "print(f\"Variância = {V}\")"
   ]
  },
  {
   "cell_type": "code",
   "execution_count": 11,
   "id": "d9a62032",
   "metadata": {},
   "outputs": [
    {
     "name": "stdout",
     "output_type": "stream",
     "text": [
      "[0.00003 0.00046 0.0032  0.01389 0.04166 0.09164 0.15274 0.19638 0.19638\n",
      " 0.15274 0.09164 0.04166 0.01389 0.0032  0.00046 0.00003]\n",
      "[-3.87298 -3.35659 -2.84019 -2.32379 -1.80739 -1.29099 -0.7746  -0.2582\n",
      "  0.2582   0.7746   1.29099  1.80739  2.32379  2.84019  3.35659  3.87298]\n",
      "Variância = 1.0000000000000002\n"
     ]
    }
   ],
   "source": [
    "binomial_distribution = RandomWalkModulation(constallation_size, variance)\n",
    "p = binomial_distribution.probas\n",
    "s = binomial_distribution.alphas\n",
    "print(p)\n",
    "print(s)\n",
    "\n",
    "V = constellation_variance(s, p)\n",
    "print(f\"Variância = {V}\")"
   ]
  },
  {
   "cell_type": "code",
   "execution_count": 12,
   "id": "072c92ee",
   "metadata": {},
   "outputs": [
    {
     "name": "stdout",
     "output_type": "stream",
     "text": [
      "[0.      0.      0.      0.      0.      0.      0.00056 0.49944 0.49944\n",
      " 0.00056 0.      0.      0.      0.      0.      0.     ]\n",
      "[-14.93369 -12.94253 -10.95137  -8.96021  -6.96906  -4.9779   -2.98674\n",
      "  -0.99558   0.99558   2.98674   4.9779    6.96906   8.96021  10.95137\n",
      "  12.94253  14.93369]\n",
      "Variância = 0.9999999999999999\n"
     ]
    }
   ],
   "source": [
    "gaussian_distribution = DiscretisedGaussianModulation(constallation_size, var = variance)\n",
    "p = gaussian_distribution.probas\n",
    "s = gaussian_distribution.alphas\n",
    "print(p)\n",
    "print(s)\n",
    "\n",
    "V = constellation_variance(s, p)\n",
    "print(f\"Variância = {V}\")"
   ]
  }
 ],
 "metadata": {
  "kernelspec": {
   "display_name": "Python (pcs)",
   "language": "python",
   "name": "pcs-3.12.0"
  },
  "language_info": {
   "codemirror_mode": {
    "name": "ipython",
    "version": 3
   },
   "file_extension": ".py",
   "mimetype": "text/x-python",
   "name": "python",
   "nbconvert_exporter": "python",
   "pygments_lexer": "ipython3",
   "version": "3.12.0"
  }
 },
 "nbformat": 4,
 "nbformat_minor": 5
}
