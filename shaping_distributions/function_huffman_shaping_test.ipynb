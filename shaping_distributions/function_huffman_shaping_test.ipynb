{
 "cells": [
  {
   "cell_type": "code",
   "execution_count": 1,
   "id": "09293aec",
   "metadata": {},
   "outputs": [],
   "source": [
    "import numpy as np\n",
    "from Huffman_Code import HuffmanShaping, GeometricHuffmanCode\n",
    "from HuffmanMatching.utils import GaussHermiteModulation, RandomWalkModulation, DiscretisedGaussianModulation\n",
    "from HuffmanMatching import HuffmanTree\n",
    "\n",
    "np.set_printoptions(precision=5, suppress=True)"
   ]
  },
  {
   "cell_type": "code",
   "execution_count": 2,
   "id": "a74f447b",
   "metadata": {},
   "outputs": [],
   "source": [
    "class results:\n",
    "    def __init__(self):\n",
    "        self.constellation_size = []\n",
    "        self.distribution = []\n",
    "        self.huffman_shaping_matching = []\n",
    "        self.huffman_shaping = []"
   ]
  },
  {
   "cell_type": "code",
   "execution_count": 3,
   "id": "4379853a",
   "metadata": {},
   "outputs": [],
   "source": [
    "variance = 1\n",
    "start = 4\n",
    "stop = 100\n",
    "step = 2\n",
    "\n",
    "data_teste = results()\n",
    "for N in range(start, stop+1, step):\n",
    "    data_teste.constellation_size.append(N)\n",
    "    type_distribution = DiscretisedGaussianModulation(N, var = variance)\n",
    "    p = type_distribution.probas\n",
    "    symbols = type_distribution.alphas\n",
    "    data_teste.distribution.append(p)\n",
    "    half = N // 2\n",
    "    huffman_shaping = HuffmanShaping(symbols[half:], p[half:], suffixes = [\"0\", \"1\"])\n",
    "    #huffman_shaping = huffman_shaping.get_output_distribution()\n",
    "    data_teste.huffman_shaping.append(huffman_shaping)\n",
    "    huffman_shaping_matching = HuffmanTree(p, symbols)\n",
    "    data_teste.huffman_shaping_matching.append(huffman_shaping_matching)"
   ]
  },
  {
   "cell_type": "code",
   "execution_count": 4,
   "id": "b90e4715",
   "metadata": {},
   "outputs": [
    {
     "name": "stdout",
     "output_type": "stream",
     "text": [
      "N = 4 = True\n",
      "N = 6 = True\n",
      "N = 8 = True\n",
      "N = 10 = True\n",
      "N = 12 = True\n",
      "N = 14 = True\n",
      "N = 16 = True\n",
      "N = 18 = True\n",
      "N = 20 = True\n",
      "N = 22 = True\n",
      "N = 24 = True\n",
      "N = 26 = True\n",
      "N = 28 = True\n",
      "N = 30 = True\n",
      "N = 32 = True\n",
      "N = 34 = True\n",
      "N = 36 = True\n",
      "N = 38 = True\n",
      "N = 40 = True\n",
      "N = 42 = True\n",
      "N = 44 = True\n",
      "N = 46 = True\n",
      "N = 48 = True\n",
      "N = 50 = True\n",
      "N = 52 = True\n",
      "N = 54 = True\n",
      "N = 56 = True\n",
      "N = 58 = True\n",
      "N = 60 = True\n",
      "N = 62 = True\n",
      "N = 64 = True\n",
      "N = 66 = True\n",
      "N = 68 = True\n",
      "N = 70 = True\n",
      "N = 72 = True\n",
      "N = 74 = True\n",
      "N = 76 = True\n",
      "N = 78 = True\n",
      "N = 80 = True\n",
      "N = 82 = True\n",
      "N = 84 = True\n",
      "N = 86 = True\n",
      "N = 88 = True\n",
      "N = 90 = True\n",
      "N = 92 = True\n",
      "N = 94 = True\n",
      "N = 96 = True\n",
      "N = 98 = True\n",
      "N = 100 = True\n"
     ]
    }
   ],
   "source": [
    "for i in range(len(data_teste.huffman_shaping)):\n",
    "    arr1 = data_teste.huffman_shaping[i].get_output_distribution()\n",
    "    arr2 = data_teste.huffman_shaping_matching[i].true_distribution\n",
    "    print(f\"N = {data_teste.constellation_size[i]} = {np.array_equal(arr1, arr2)}\")"
   ]
  },
  {
   "cell_type": "markdown",
   "id": "11fcf2a6",
   "metadata": {},
   "source": [
    "#### distributions testes"
   ]
  },
  {
   "cell_type": "code",
   "execution_count": 6,
   "id": "23ac4ffa",
   "metadata": {},
   "outputs": [
    {
     "name": "stdout",
     "output_type": "stream",
     "text": [
      "[0.1666666666666666, 0.6666666666666669, 0.1666666666666666]\n",
      "[-1.7320508075688774, 0.0, 1.7320508075688774]\n"
     ]
    }
   ],
   "source": [
    "constallation_size = 3\n",
    "variance = 1\n",
    "gausshermite_distribution = GaussHermiteModulation(constallation_size, variance)\n",
    "print(gausshermite_distribution.probas)\n",
    "print(gausshermite_distribution.alphas)"
   ]
  },
  {
   "cell_type": "code",
   "execution_count": 7,
   "id": "d9a62032",
   "metadata": {},
   "outputs": [
    {
     "name": "stdout",
     "output_type": "stream",
     "text": [
      "[0.25 0.5  0.25]\n",
      "[-1.41421  0.       1.41421]\n"
     ]
    }
   ],
   "source": [
    "bonomial_distribution = RandomWalkModulation(constallation_size, variance)\n",
    "print(bonomial_distribution.probas)\n",
    "print(bonomial_distribution.alphas)"
   ]
  },
  {
   "cell_type": "code",
   "execution_count": 8,
   "id": "072c92ee",
   "metadata": {},
   "outputs": [
    {
     "name": "stdout",
     "output_type": "stream",
     "text": [
      "[0.03129 0.93743 0.03129]\n",
      "[-3.99776  0.       3.99776]\n"
     ]
    }
   ],
   "source": [
    "gaussian_distribution = DiscretisedGaussianModulation(constallation_size)\n",
    "print(gaussian_distribution.probas)\n",
    "print(gaussian_distribution.alphas)"
   ]
  }
 ],
 "metadata": {
  "kernelspec": {
   "display_name": "Python (pcs)",
   "language": "python",
   "name": "pcs-3.12.0"
  },
  "language_info": {
   "codemirror_mode": {
    "name": "ipython",
    "version": 3
   },
   "file_extension": ".py",
   "mimetype": "text/x-python",
   "name": "python",
   "nbconvert_exporter": "python",
   "pygments_lexer": "ipython3",
   "version": "3.12.0"
  }
 },
 "nbformat": 4,
 "nbformat_minor": 5
}
