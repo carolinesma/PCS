{
 "cells": [
  {
   "cell_type": "code",
   "execution_count": 1,
   "id": "0e5802fb",
   "metadata": {},
   "outputs": [],
   "source": [
    "import numpy as np"
   ]
  },
  {
   "cell_type": "code",
   "execution_count": 39,
   "id": "13a4ede8",
   "metadata": {},
   "outputs": [],
   "source": [
    "# gerar M-ay PAM\n",
    "def PAM(M):\n",
    "    A = []\n",
    "    for i in range(0, M):\n",
    "        A_i = -(M-1) + 2*i\n",
    "        A.append(A_i)\n",
    "    return A"
   ]
  },
  {
   "cell_type": "code",
   "execution_count": 40,
   "id": "94e3ffd3",
   "metadata": {},
   "outputs": [
    {
     "name": "stdout",
     "output_type": "stream",
     "text": [
      "A_8 = [-7, -5, -3, -1, 1, 3, 5, 7]\n"
     ]
    }
   ],
   "source": [
    "M = 8\n",
    "A_M = PAM(M)\n",
    "print(f\"A_{M} = {A_M}\")"
   ]
  },
  {
   "cell_type": "code",
   "execution_count": 46,
   "id": "77c7ad18",
   "metadata": {},
   "outputs": [
    {
     "name": "stdout",
     "output_type": "stream",
     "text": [
      "p =  [0.0, 0.03571428571428571, 0.07142857142857142, 0.10714285714285714, 0.14285714285714285, 0.17857142857142858, 0.21428571428571427, 0.25]\n"
     ]
    }
   ],
   "source": [
    "p = [i for i in range(M)]\n",
    "p = [val / sum(p) for val in p]\n",
    "print(\"p = \", p)"
   ]
  },
  {
   "cell_type": "code",
   "execution_count": 47,
   "id": "31ea0fc8",
   "metadata": {},
   "outputs": [
    {
     "name": "stdout",
     "output_type": "stream",
     "text": [
      "H(p) = 2.610005370795802\n"
     ]
    }
   ],
   "source": [
    "# Cálculo da entropia dos símbolos\n",
    "\n",
    "def entropy(probabilities):\n",
    "    return -np.sum([val * np.log2(val) if val > 0 else 0 for val in probabilities])\n",
    "\n",
    "H_p = entropy(p)\n",
    "print(f\"H(p) = {H_p}\")"
   ]
  },
  {
   "cell_type": "code",
   "execution_count": 48,
   "id": "8c8913c0",
   "metadata": {},
   "outputs": [
    {
     "name": "stdout",
     "output_type": "stream",
     "text": [
      "E(p) = 21.0\n"
     ]
    }
   ],
   "source": [
    "# Cálculo da energia média do símbolo\n",
    "def average_energy(A, probabilities):\n",
    "    return np.sum(probabilities * (np.abs(A)**2))\n",
    "E_p = average_energy(A_M, p)\n",
    "print(f\"E(p) = {E_p}\")"
   ]
  },
  {
   "cell_type": "code",
   "execution_count": 49,
   "id": "c10c78fc",
   "metadata": {},
   "outputs": [
    {
     "name": "stdout",
     "output_type": "stream",
     "text": [
      "p_eq =  [0.125, 0.125, 0.125, 0.125, 0.125, 0.125, 0.125, 0.125]\n",
      "H(p_eq) = 3.0\n",
      "E(p_eq) = 21.0\n"
     ]
    }
   ],
   "source": [
    "# teste para síbolos equiprováveis\n",
    "p_eq = [1/M for _ in range(M)]\n",
    "print(\"p_eq = \", p_eq)\n",
    "\n",
    "H_p_eq = entropy(p_eq)\n",
    "print(f\"H(p_eq) = {H_p_eq}\")\n",
    "\n",
    "E_p_eq = average_energy(A_M, p_eq)\n",
    "print(f\"E(p_eq) = {E_p_eq}\")\n",
    "\n"
   ]
  },
  {
   "cell_type": "code",
   "execution_count": 50,
   "id": "7debcaa5",
   "metadata": {},
   "outputs": [
    {
     "name": "stdout",
     "output_type": "stream",
     "text": [
      "G_s(p) = 1.0\n"
     ]
    }
   ],
   "source": [
    "# Shaping Gain\n",
    "Gs_p = E_p_eq/E_p\n",
    "print(f\"G_s(p) = {Gs_p}\")"
   ]
  },
  {
   "cell_type": "code",
   "execution_count": 51,
   "id": "a6959690",
   "metadata": {},
   "outputs": [
    {
     "name": "stdout",
     "output_type": "stream",
     "text": [
      "G_s(p) = 253.90226591055006\n"
     ]
    }
   ],
   "source": [
    "Gs_p_ = (2**(2*H_p) - 1)/ 3*E_p\n",
    "print(f\"G_s(p) = {Gs_p_}\")"
   ]
  },
  {
   "cell_type": "code",
   "execution_count": null,
   "id": "05b46371",
   "metadata": {},
   "outputs": [],
   "source": []
  }
 ],
 "metadata": {
  "kernelspec": {
   "display_name": "pcs-3.12.0",
   "language": "python",
   "name": "python3"
  },
  "language_info": {
   "codemirror_mode": {
    "name": "ipython",
    "version": 3
   },
   "file_extension": ".py",
   "mimetype": "text/x-python",
   "name": "python",
   "nbconvert_exporter": "python",
   "pygments_lexer": "ipython3",
   "version": "3.12.0"
  }
 },
 "nbformat": 4,
 "nbformat_minor": 5
}
