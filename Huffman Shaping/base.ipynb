{
 "cells": [
  {
   "cell_type": "code",
   "execution_count": 128,
   "id": "0e5802fb",
   "metadata": {},
   "outputs": [],
   "source": [
    "import numpy as np\n",
    "from scipy.optimize import minimize_scalar\n",
    "import pandas as pd\n",
    "import matplotlib.pyplot as plt"
   ]
  },
  {
   "cell_type": "markdown",
   "id": "2709df12",
   "metadata": {},
   "source": [
    "## Shaping Gain"
   ]
  },
  {
   "cell_type": "markdown",
   "id": "f156d2be",
   "metadata": {},
   "source": [
    "### Funções para cálculo de entropia e energia média"
   ]
  },
  {
   "cell_type": "code",
   "execution_count": 129,
   "id": "a44d82f8",
   "metadata": {},
   "outputs": [],
   "source": [
    "# Cálculo da entropia dos símbolos\n",
    "def entropy(p):\n",
    "    return -np.sum(p * np.log2(p + 1e-12))  # adiciona termo pequeno p evitar log(0)\n",
    "\n",
    "# Cálculo da energia média do símbolo\n",
    "def average_energy(p, A_M):\n",
    "    return np.sum(p * np.abs(A_M)**2)\n",
    "\n",
    "# gerar M-ay PAM\n",
    "def PAM(M):\n",
    "    A = []\n",
    "    for i in range(0, M):\n",
    "        A_i = -(M-1) + 2*i\n",
    "        A.append(A_i)\n",
    "    return A\n",
    "\n"
   ]
  },
  {
   "cell_type": "markdown",
   "id": "4a1deb11",
   "metadata": {},
   "source": [
    "### Cálculos para distribuição não uniforme"
   ]
  },
  {
   "cell_type": "code",
   "execution_count": 130,
   "id": "31ea0fc8",
   "metadata": {},
   "outputs": [
    {
     "name": "stdout",
     "output_type": "stream",
     "text": [
      "A_8 = [-7, -5, -3, -1, 1, 3, 5, 7]\n",
      "p =  [0.         0.03571429 0.07142857 0.10714286 0.14285714 0.17857143\n",
      " 0.21428571 0.25      ]\n",
      "H(p) = 2.6100053707857036\n",
      "E(p) = 21.0\n"
     ]
    }
   ],
   "source": [
    "M = 8\n",
    "A_M = PAM(M)\n",
    "print(f\"A_{M} = {A_M}\")\n",
    "\n",
    "# calcula vetor de variáveis não ótimas\n",
    "p = [i for i in range(M)]\n",
    "p = np.array([val / sum(p) for val in p])\n",
    "print(\"p = \", p)\n",
    "\n",
    "#cálculo da entropia e energia média\n",
    "H_p = entropy(p)\n",
    "print(f\"H(p) = {H_p}\")\n",
    "\n",
    "E_p = average_energy(p, A_M)\n",
    "print(f\"E(p) = {E_p}\")"
   ]
  },
  {
   "cell_type": "markdown",
   "id": "13409ba4",
   "metadata": {},
   "source": [
    "### Cálculo do ganho"
   ]
  },
  {
   "cell_type": "code",
   "execution_count": 131,
   "id": "7debcaa5",
   "metadata": {},
   "outputs": [
    {
     "name": "stdout",
     "output_type": "stream",
     "text": [
      "M_linha = 6.1050595633797\n",
      "G_s(p) = 0.16156462585034012\n"
     ]
    }
   ],
   "source": [
    "# Shaping Gain\n",
    "M_linha = 2**H_p\n",
    "print(f\"M_linha = {M_linha}\")\n",
    "E_M_linha = average_energy(p[0:int(M_linha)], A_M[0:int(M_linha)])  # energia média para símbolos equiprováveis\n",
    "Gs_p = E_M_linha/E_p\n",
    "print(f\"G_s(p) = {Gs_p}\")"
   ]
  },
  {
   "cell_type": "code",
   "execution_count": 132,
   "id": "a6959690",
   "metadata": {},
   "outputs": [
    {
     "name": "stdout",
     "output_type": "stream",
     "text": [
      "G_s(p) = 0.575742099562126\n"
     ]
    }
   ],
   "source": [
    "Gs_p_ = ((2**(2*H_p)) - 1)/ (3*E_p)\n",
    "print(f\"G_s(p) = {Gs_p_}\")"
   ]
  },
  {
   "cell_type": "markdown",
   "id": "0b2582d8",
   "metadata": {},
   "source": [
    "### Cálculos para distribuiçao uniforme"
   ]
  },
  {
   "cell_type": "code",
   "execution_count": 133,
   "id": "c10c78fc",
   "metadata": {},
   "outputs": [
    {
     "name": "stdout",
     "output_type": "stream",
     "text": [
      "p_eq =  [0.125 0.125 0.125 0.125 0.125 0.125 0.125 0.125]\n",
      "H(p_eq) = 2.9999999999884586\n",
      "E(p_eq) = 21.0\n",
      "E(p) = E_M = 21.0\n"
     ]
    }
   ],
   "source": [
    "# teste para síbolos equiprováveis\n",
    "p_eq = np.array([1/M for _ in range(M)])\n",
    "print(\"p_eq = \", p_eq)\n",
    "\n",
    "H_p_eq = entropy(p_eq)\n",
    "print(f\"H(p_eq) = {H_p_eq}\")\n",
    "\n",
    "E_p_eq = average_energy(p_eq, A_M)\n",
    "print(f\"E(p_eq) = {E_p_eq}\")\n",
    "\n",
    "E_M = (M**2 -1)/3\n",
    "print(f\"E(p) = E_M = {E_M}\")"
   ]
  },
  {
   "cell_type": "markdown",
   "id": "8aeeae6d",
   "metadata": {},
   "source": [
    "### Otimização do vetor de probabilidade"
   ]
  },
  {
   "cell_type": "code",
   "execution_count": 134,
   "id": "d1ba3c8d",
   "metadata": {},
   "outputs": [],
   "source": [
    "\n",
    "def compute_alpha(s, A_M):\n",
    "    return 1.0 / np.sum(np.exp(-s * np.abs(A_M)**2))\n",
    "\n",
    "def compute_probabilities(s, A_M):\n",
    "    alpha = compute_alpha(s, A_M)\n",
    "    return alpha * np.exp(-s * np.abs(A_M)**2)\n",
    "\n",
    "def optimize_for_entropy(A_M, R_target, bounds=(1e-5, 5)):\n",
    "    def objective(s):\n",
    "        p = compute_probabilities(s, A_M)\n",
    "        H = entropy(p)\n",
    "        return (H - R_target)**2\n",
    "\n",
    "    result = minimize_scalar(objective, bounds=bounds, method='bounded')\n",
    "    s_opt = result.x\n",
    "    alpha_opt = compute_alpha(s_opt, A_M)\n",
    "    p_opt = compute_probabilities(s_opt, A_M)\n",
    "    \n",
    "    return s_opt, alpha_opt, p_opt, entropy(p_opt), average_energy(p_opt, A_M)\n",
    "\n",
    "def optimize_for_energy(A_M, S_target, bounds=(1e-5, 5)):\n",
    "    def objective(s):\n",
    "        p = compute_probabilities(s, A_M)\n",
    "        S = average_energy(p, A_M)\n",
    "        return (S - S_target)**2\n",
    "\n",
    "    result = minimize_scalar(objective, bounds=bounds, method='bounded')\n",
    "    s_opt = result.x\n",
    "    alpha_opt = compute_alpha(s_opt, A_M)\n",
    "    p_opt = compute_probabilities(s_opt, A_M)\n",
    "    \n",
    "    return s_opt, alpha_opt, p_opt, entropy(p_opt), average_energy(p_opt, A_M)\n"
   ]
  },
  {
   "cell_type": "code",
   "execution_count": 135,
   "id": "08ea1b29",
   "metadata": {},
   "outputs": [
    {
     "name": "stdout",
     "output_type": "stream",
     "text": [
      "A_M = [-7, -5, -3, -1, 1, 3, 5, 7]\n",
      "\n",
      "Para entropia desejada < que 2.9700\n",
      "s = 0.0116, alpha = 0.1561\n",
      "Entropia = 2.9700, Energia média = 17.3354\n",
      "Probabilidades: [0.08834934 0.1167551  0.1406018  0.15429377 0.15429377 0.1406018\n",
      " 0.1167551  0.08834934]\n",
      "\n",
      "Para energia média desejada < que 21.0000\n",
      "s = 0.0000, alpha = 0.1250\n",
      "Entropia = 3.0000, Energia média = 20.9954\n",
      "Probabilidades: [0.12495205 0.12499314 0.12502055 0.12503426 0.12503426 0.12502055\n",
      " 0.12499314 0.12495205]\n"
     ]
    }
   ],
   "source": [
    "M = 8\n",
    "A_M = PAM(M)\n",
    "R_target = np.log2(M) * 0.99     \n",
    "S_target = (pow(M,2)-1)/3                  \n",
    "\n",
    "print(f\"A_M = {A_M}\")\n",
    "\n",
    "# Otimizar para entropia\n",
    "s_e, alpha_e, p_e, H_e, E_e = optimize_for_entropy(A_M, R_target)\n",
    "print(f\"\\nPara entropia desejada < que {R_target:.4f}\")\n",
    "print(f\"s = {s_e:.4f}, alpha = {alpha_e:.4f}\")\n",
    "print(f\"Entropia = {H_e:.4f}, Energia média = {E_e:.4f}\")\n",
    "print(f\"Probabilidades: {p_e}\")\n",
    "\n",
    "# Otimizar para energia\n",
    "s_s, alpha_s, p_s, H_s, E_s = optimize_for_energy(A_M, S_target)\n",
    "print(f\"\\nPara energia média desejada < que {S_target:.4f}\")\n",
    "print(f\"s = {s_s:.4f}, alpha = {alpha_s:.4f}\")\n",
    "print(f\"Entropia = {H_s:.4f}, Energia média = {E_s:.4f}\")\n",
    "print(f\"Probabilidades: {p_s}\")"
   ]
  },
  {
   "cell_type": "markdown",
   "id": "cb167524",
   "metadata": {},
   "source": [
    "## Huffman Shaping"
   ]
  },
  {
   "cell_type": "code",
   "execution_count": 136,
   "id": "3d5b0085",
   "metadata": {},
   "outputs": [],
   "source": [
    "# Métricas\n",
    "def average_code_rate(M, K, L):\n",
    "    \"\"\"\n",
    "    Calcula a taxa média de codificação.\n",
    "    \n",
    "    M: número de símbolos\n",
    "    K: número de bits por símbolo\n",
    "    L: lista de comprimentos dos códigos para cada símbolo\n",
    "    \"\"\"\n",
    "    return sum(2**(-L[i]) * L[i] for i in range(M)) / K\n",
    "\n",
    "def standard_deviation_rate(M, K, L, R_h):\n",
    "    \"\"\"\n",
    "    Calcula o desvio padrão da taxa de codificação.\n",
    "    \n",
    "    M: número de símbolos\n",
    "    K: número de bits por símbolo\n",
    "    L: lista de comprimentos dos códigos para cada símbolo\n",
    "    R_h: taxa média de codificação\n",
    "    \"\"\"\n",
    "    return np.sqrt(sum(2**(-L[i]) * (L[i] - K*R_h)**2 for i in range(M)) / K)\n",
    "\n",
    "def average_energy_dimension(A_M, L, K):\n",
    "    \"\"\"\n",
    "    Calcula a dimensão de energia.\n",
    "    \n",
    "    A_M: constelação\n",
    "    L: lista de comprimentos dos códigos para cada símbolo\n",
    "    K: número de bits por símbolo\n",
    "    \"\"\"\n",
    "    return sum(2**(-L[i]) * np.abs(A_M[i])**2 for i in range(len(A_M))) / K\n",
    "\n",
    "def shaping_gain(R_h, E_h):\n",
    "    \"\"\"\n",
    "    Calcula o ganho de shaping.\n",
    "    \n",
    "    R_h: taxa média de codificação\n",
    "    E_h: energia média do código\n",
    "    \"\"\"\n",
    "    return ((2**(2*R_h)) - 1) / (3 * E_h)"
   ]
  },
  {
   "cell_type": "code",
   "execution_count": 137,
   "id": "563db561",
   "metadata": {},
   "outputs": [],
   "source": [
    "# Huffman shaping algorithm\n",
    "def huffman_shaping(A_M, p):\n",
    "    \"\"\"\n",
    "    Implementa o algoritmo de Huffman shaping.\n",
    "    \n",
    "    A_M: constelação\n",
    "    p: vetor de probabilidades\n",
    "    \"\"\"\n",
    "    # Implementação do algoritmo de Huffman shaping\n",
    "    # (a ser implementado conforme necessário)\n",
    "    pass\n",
    "        "
   ]
  },
  {
   "cell_type": "markdown",
   "id": "fc6c3236",
   "metadata": {},
   "source": [
    "### Otimização 128-QAM primeiro quadrante\n",
    "Reprodução do livro"
   ]
  },
  {
   "cell_type": "code",
   "execution_count": 138,
   "id": "d9050a83",
   "metadata": {},
   "outputs": [],
   "source": [
    "def generate_qam_closest_to_origin(M):\n",
    "    \"\"\"\n",
    "    Gera uma constelação QAM no primeiro quadrante com pontos próximos da origem,\n",
    "    selecionando os pontos com menor distância.\n",
    "\n",
    "    Parâmetros:\n",
    "    ----------\n",
    "    M : int\n",
    "        Número total de pontos na constelação (incluindo todos os quadrantes).\n",
    "\n",
    "    Retorno:\n",
    "    -------\n",
    "    np.array\n",
    "        Pontos da constelação QAM no primeiro quadrante como números complexos.\n",
    "    \"\"\"\n",
    "    # Número de pontos no primeiro quadrante\n",
    "    points_per_quadrant = M // 4\n",
    "\n",
    "    # Calcula o maior quadrado perfeito próximo\n",
    "    side_length = int(np.ceil(np.sqrt(points_per_quadrant)))\n",
    "\n",
    "    # Inicializa a lista de pontos\n",
    "    qam_points = []\n",
    "\n",
    "    # Gera os pontos no primeiro quadrante\n",
    "    for i_1 in range(side_length):\n",
    "        for i_2 in range(side_length):\n",
    "            if len(qam_points) < M:  # Adiciona pontos até atingir M\n",
    "                real = 1 + 2 * i_1  # Coordenada real\n",
    "                imag = 1 + 2 * i_2  # Coordenada imaginária\n",
    "                qam_points.append(complex(real, imag))  # Adiciona o ponto como número complexo\n",
    "\n",
    "    # Calcula a distância de cada ponto para a origem\n",
    "    distances = np.array([np.abs(p) for p in qam_points])\n",
    "\n",
    "    # Ordena os pontos pela distância à origem\n",
    "    sorted_indices = np.argsort(distances)\n",
    "    qam_points_sorted = np.array(qam_points)[sorted_indices]\n",
    "\n",
    "    # Retorna apenas os pontos mais próximos da origem\n",
    "    return qam_points_sorted[:points_per_quadrant]\n",
    "\n",
    "def plot_qam_constellation(qam_points):\n",
    "    \"\"\"\n",
    "    Plota a constelação QAM no plano complexo.\n",
    "\n",
    "    Parâmetros:\n",
    "    ----------\n",
    "    qam_points : np.array\n",
    "        Pontos da constelação QAM como números complexos.\n",
    "    \"\"\"\n",
    "    # Extrai as partes real e imaginária dos pontos\n",
    "    real = np.real(qam_points)\n",
    "    imag = np.imag(qam_points)\n",
    "\n",
    "    # Cria o gráfico\n",
    "    plt.figure(figsize=(5, 5))\n",
    "    plt.scatter(real, imag, color='blue', s=50, label='Pontos da constelação')\n",
    "    plt.axhline(0, color='black', linewidth=0.5, linestyle='--')\n",
    "    plt.axvline(0, color='black', linewidth=0.5, linestyle='--')\n",
    "    plt.grid(color='gray', linestyle='--', linewidth=0.5)\n",
    "    plt.title(\"Constelação QAM no Primeiro Quadrante (Próxima da Origem)\", fontsize=10)\n",
    "    plt.xlabel(\"Parte Real\", fontsize=8)\n",
    "    plt.ylabel(\"Parte Imaginária\", fontsize=8)\n",
    "    plt.axis('equal')  # Garante que os eixos tenham a mesma escala\n",
    "    plt.show()"
   ]
  },
  {
   "cell_type": "code",
   "execution_count": 139,
   "id": "4d36828d",
   "metadata": {},
   "outputs": [
    {
     "data": {
      "image/png": "[encoded data removed]",
      "text/plain": [
       "<Figure size 500x500 with 1 Axes>"
      ]
     },
     "metadata": {},
     "output_type": "display_data"
    }
   ],
   "source": [
    "# Exemplo de uso\n",
    "M = 128  # Número total de pontos na constelação\n",
    "qam_closest = generate_qam_closest_to_origin(M)  # Gera os pontos da constelação\n",
    "plot_qam_constellation(qam_closest)  # Plota a constelação"
   ]
  },
  {
   "cell_type": "code",
   "execution_count": 140,
   "id": "bb9596f2",
   "metadata": {},
   "outputs": [
    {
     "name": "stdout",
     "output_type": "stream",
     "text": [
      "\n",
      "Para entropia desejada < que 2.9750\n",
      "s = 0.0679, alpha = 0.3457\n",
      "Entropia = 2.9750, Energia média = 14.7317\n"
     ]
    }
   ],
   "source": [
    "R_target = 2.975   \n",
    "# Otimizar para entropia\n",
    "s_e, alpha_e, p_e, H_e, E_e = optimize_for_entropy(qam_closest, R_target, (1e-5, 5))\n",
    "print(f\"\\nPara entropia desejada < que {R_target:.4f}\")\n",
    "print(f\"s = {s_e:.4f}, alpha = {alpha_e:.4f}\")\n",
    "print(f\"Entropia = {H_e:.4f}, Energia média = {E_e:.4f}\")\n",
    "df = pd.DataFrame({'QAM': qam_closest, 'abs(QAM)**2': np.abs(qam_closest)**2, 'P': np.round(p_e, 5), \"-log2(P)\": -np.log2(p_e)})\n"
   ]
  },
  {
   "cell_type": "code",
   "execution_count": 141,
   "id": "0cc60b28",
   "metadata": {},
   "outputs": [
    {
     "data": {
      "text/html": [
       "<div>\n",
       "<style scoped>\n",
       "    .dataframe tbody tr th:only-of-type {\n",
       "        vertical-align: middle;\n",
       "    }\n",
       "\n",
       "    .dataframe tbody tr th {\n",
       "        vertical-align: top;\n",
       "    }\n",
       "\n",
       "    .dataframe thead th {\n",
       "        text-align: right;\n",
       "    }\n",
       "</style>\n",
       "<table border=\"1\" class=\"dataframe\">\n",
       "  <thead>\n",
       "    <tr style=\"text-align: right;\">\n",
       "      <th></th>\n",
       "      <th>QAM</th>\n",
       "      <th>abs(QAM)**2</th>\n",
       "      <th>P</th>\n",
       "      <th>-log2(P)</th>\n",
       "    </tr>\n",
       "  </thead>\n",
       "  <tbody>\n",
       "    <tr>\n",
       "      <th>0</th>\n",
       "      <td>1.0+ 1.0j</td>\n",
       "      <td>2.0</td>\n",
       "      <td>0.30178</td>\n",
       "      <td>1.728418</td>\n",
       "    </tr>\n",
       "    <tr>\n",
       "      <th>1</th>\n",
       "      <td>1.0+ 3.0j</td>\n",
       "      <td>10.0</td>\n",
       "      <td>0.17535</td>\n",
       "      <td>2.511723</td>\n",
       "    </tr>\n",
       "    <tr>\n",
       "      <th>2</th>\n",
       "      <td>3.0+ 1.0j</td>\n",
       "      <td>10.0</td>\n",
       "      <td>0.17535</td>\n",
       "      <td>2.511723</td>\n",
       "    </tr>\n",
       "    <tr>\n",
       "      <th>3</th>\n",
       "      <td>3.0+ 3.0j</td>\n",
       "      <td>18.0</td>\n",
       "      <td>0.10188</td>\n",
       "      <td>3.295029</td>\n",
       "    </tr>\n",
       "    <tr>\n",
       "      <th>4</th>\n",
       "      <td>1.0+ 5.0j</td>\n",
       "      <td>26.0</td>\n",
       "      <td>0.05920</td>\n",
       "      <td>4.078334</td>\n",
       "    </tr>\n",
       "    <tr>\n",
       "      <th>5</th>\n",
       "      <td>5.0+ 1.0j</td>\n",
       "      <td>26.0</td>\n",
       "      <td>0.05920</td>\n",
       "      <td>4.078334</td>\n",
       "    </tr>\n",
       "    <tr>\n",
       "      <th>6</th>\n",
       "      <td>5.0+ 3.0j</td>\n",
       "      <td>34.0</td>\n",
       "      <td>0.03440</td>\n",
       "      <td>4.861639</td>\n",
       "    </tr>\n",
       "    <tr>\n",
       "      <th>7</th>\n",
       "      <td>3.0+ 5.0j</td>\n",
       "      <td>34.0</td>\n",
       "      <td>0.03440</td>\n",
       "      <td>4.861639</td>\n",
       "    </tr>\n",
       "    <tr>\n",
       "      <th>8</th>\n",
       "      <td>7.0+ 1.0j</td>\n",
       "      <td>50.0</td>\n",
       "      <td>0.01161</td>\n",
       "      <td>6.428250</td>\n",
       "    </tr>\n",
       "    <tr>\n",
       "      <th>9</th>\n",
       "      <td>5.0+ 5.0j</td>\n",
       "      <td>50.0</td>\n",
       "      <td>0.01161</td>\n",
       "      <td>6.428250</td>\n",
       "    </tr>\n",
       "    <tr>\n",
       "      <th>10</th>\n",
       "      <td>1.0+ 7.0j</td>\n",
       "      <td>50.0</td>\n",
       "      <td>0.01161</td>\n",
       "      <td>6.428250</td>\n",
       "    </tr>\n",
       "    <tr>\n",
       "      <th>11</th>\n",
       "      <td>7.0+ 3.0j</td>\n",
       "      <td>58.0</td>\n",
       "      <td>0.00675</td>\n",
       "      <td>7.211555</td>\n",
       "    </tr>\n",
       "    <tr>\n",
       "      <th>12</th>\n",
       "      <td>3.0+ 7.0j</td>\n",
       "      <td>58.0</td>\n",
       "      <td>0.00675</td>\n",
       "      <td>7.211555</td>\n",
       "    </tr>\n",
       "    <tr>\n",
       "      <th>13</th>\n",
       "      <td>7.0+ 5.0j</td>\n",
       "      <td>74.0</td>\n",
       "      <td>0.00228</td>\n",
       "      <td>8.778166</td>\n",
       "    </tr>\n",
       "    <tr>\n",
       "      <th>14</th>\n",
       "      <td>5.0+ 7.0j</td>\n",
       "      <td>74.0</td>\n",
       "      <td>0.00228</td>\n",
       "      <td>8.778166</td>\n",
       "    </tr>\n",
       "    <tr>\n",
       "      <th>15</th>\n",
       "      <td>9.0+ 1.0j</td>\n",
       "      <td>82.0</td>\n",
       "      <td>0.00132</td>\n",
       "      <td>9.561471</td>\n",
       "    </tr>\n",
       "    <tr>\n",
       "      <th>16</th>\n",
       "      <td>1.0+ 9.0j</td>\n",
       "      <td>82.0</td>\n",
       "      <td>0.00132</td>\n",
       "      <td>9.561471</td>\n",
       "    </tr>\n",
       "    <tr>\n",
       "      <th>17</th>\n",
       "      <td>9.0+ 3.0j</td>\n",
       "      <td>90.0</td>\n",
       "      <td>0.00077</td>\n",
       "      <td>10.344777</td>\n",
       "    </tr>\n",
       "    <tr>\n",
       "      <th>18</th>\n",
       "      <td>3.0+ 9.0j</td>\n",
       "      <td>90.0</td>\n",
       "      <td>0.00077</td>\n",
       "      <td>10.344777</td>\n",
       "    </tr>\n",
       "    <tr>\n",
       "      <th>19</th>\n",
       "      <td>7.0+ 7.0j</td>\n",
       "      <td>98.0</td>\n",
       "      <td>0.00045</td>\n",
       "      <td>11.128082</td>\n",
       "    </tr>\n",
       "    <tr>\n",
       "      <th>20</th>\n",
       "      <td>5.0+ 9.0j</td>\n",
       "      <td>106.0</td>\n",
       "      <td>0.00026</td>\n",
       "      <td>11.911387</td>\n",
       "    </tr>\n",
       "    <tr>\n",
       "      <th>21</th>\n",
       "      <td>9.0+ 5.0j</td>\n",
       "      <td>106.0</td>\n",
       "      <td>0.00026</td>\n",
       "      <td>11.911387</td>\n",
       "    </tr>\n",
       "    <tr>\n",
       "      <th>22</th>\n",
       "      <td>1.0+11.0j</td>\n",
       "      <td>122.0</td>\n",
       "      <td>0.00009</td>\n",
       "      <td>13.477998</td>\n",
       "    </tr>\n",
       "    <tr>\n",
       "      <th>23</th>\n",
       "      <td>11.0+ 1.0j</td>\n",
       "      <td>122.0</td>\n",
       "      <td>0.00009</td>\n",
       "      <td>13.477998</td>\n",
       "    </tr>\n",
       "    <tr>\n",
       "      <th>24</th>\n",
       "      <td>9.0+ 7.0j</td>\n",
       "      <td>130.0</td>\n",
       "      <td>0.00005</td>\n",
       "      <td>14.261303</td>\n",
       "    </tr>\n",
       "    <tr>\n",
       "      <th>25</th>\n",
       "      <td>7.0+ 9.0j</td>\n",
       "      <td>130.0</td>\n",
       "      <td>0.00005</td>\n",
       "      <td>14.261303</td>\n",
       "    </tr>\n",
       "    <tr>\n",
       "      <th>26</th>\n",
       "      <td>11.0+ 3.0j</td>\n",
       "      <td>130.0</td>\n",
       "      <td>0.00005</td>\n",
       "      <td>14.261303</td>\n",
       "    </tr>\n",
       "    <tr>\n",
       "      <th>27</th>\n",
       "      <td>3.0+11.0j</td>\n",
       "      <td>130.0</td>\n",
       "      <td>0.00005</td>\n",
       "      <td>14.261303</td>\n",
       "    </tr>\n",
       "    <tr>\n",
       "      <th>28</th>\n",
       "      <td>11.0+ 5.0j</td>\n",
       "      <td>146.0</td>\n",
       "      <td>0.00002</td>\n",
       "      <td>15.827914</td>\n",
       "    </tr>\n",
       "    <tr>\n",
       "      <th>29</th>\n",
       "      <td>5.0+11.0j</td>\n",
       "      <td>146.0</td>\n",
       "      <td>0.00002</td>\n",
       "      <td>15.827914</td>\n",
       "    </tr>\n",
       "    <tr>\n",
       "      <th>30</th>\n",
       "      <td>9.0+ 9.0j</td>\n",
       "      <td>162.0</td>\n",
       "      <td>0.00001</td>\n",
       "      <td>17.394524</td>\n",
       "    </tr>\n",
       "    <tr>\n",
       "      <th>31</th>\n",
       "      <td>7.0+11.0j</td>\n",
       "      <td>170.0</td>\n",
       "      <td>0.00000</td>\n",
       "      <td>18.177830</td>\n",
       "    </tr>\n",
       "  </tbody>\n",
       "</table>\n",
       "</div>"
      ],
      "text/plain": [
       "           QAM  abs(QAM)**2        P   -log2(P)\n",
       "0    1.0+ 1.0j          2.0  0.30178   1.728418\n",
       "1    1.0+ 3.0j         10.0  0.17535   2.511723\n",
       "2    3.0+ 1.0j         10.0  0.17535   2.511723\n",
       "3    3.0+ 3.0j         18.0  0.10188   3.295029\n",
       "4    1.0+ 5.0j         26.0  0.05920   4.078334\n",
       "5    5.0+ 1.0j         26.0  0.05920   4.078334\n",
       "6    5.0+ 3.0j         34.0  0.03440   4.861639\n",
       "7    3.0+ 5.0j         34.0  0.03440   4.861639\n",
       "8    7.0+ 1.0j         50.0  0.01161   6.428250\n",
       "9    5.0+ 5.0j         50.0  0.01161   6.428250\n",
       "10   1.0+ 7.0j         50.0  0.01161   6.428250\n",
       "11   7.0+ 3.0j         58.0  0.00675   7.211555\n",
       "12   3.0+ 7.0j         58.0  0.00675   7.211555\n",
       "13   7.0+ 5.0j         74.0  0.00228   8.778166\n",
       "14   5.0+ 7.0j         74.0  0.00228   8.778166\n",
       "15   9.0+ 1.0j         82.0  0.00132   9.561471\n",
       "16   1.0+ 9.0j         82.0  0.00132   9.561471\n",
       "17   9.0+ 3.0j         90.0  0.00077  10.344777\n",
       "18   3.0+ 9.0j         90.0  0.00077  10.344777\n",
       "19   7.0+ 7.0j         98.0  0.00045  11.128082\n",
       "20   5.0+ 9.0j        106.0  0.00026  11.911387\n",
       "21   9.0+ 5.0j        106.0  0.00026  11.911387\n",
       "22   1.0+11.0j        122.0  0.00009  13.477998\n",
       "23  11.0+ 1.0j        122.0  0.00009  13.477998\n",
       "24   9.0+ 7.0j        130.0  0.00005  14.261303\n",
       "25   7.0+ 9.0j        130.0  0.00005  14.261303\n",
       "26  11.0+ 3.0j        130.0  0.00005  14.261303\n",
       "27   3.0+11.0j        130.0  0.00005  14.261303\n",
       "28  11.0+ 5.0j        146.0  0.00002  15.827914\n",
       "29   5.0+11.0j        146.0  0.00002  15.827914\n",
       "30   9.0+ 9.0j        162.0  0.00001  17.394524\n",
       "31   7.0+11.0j        170.0  0.00000  18.177830"
      ]
     },
     "execution_count": 141,
     "metadata": {},
     "output_type": "execute_result"
    }
   ],
   "source": [
    "df"
   ]
  },
  {
   "cell_type": "markdown",
   "id": "e4431d36",
   "metadata": {},
   "source": [
    "### Teste com dados do artigo"
   ]
  },
  {
   "cell_type": "code",
   "execution_count": 142,
   "id": "380093b3",
   "metadata": {},
   "outputs": [],
   "source": [
    "p_i = [\n",
    "    0.03872, 0.02991, 0.02991, 0.02311, 0.01785, 0.01785,\n",
    "    0.01379, 0.01379, 0.01379, 0.00823, 0.00823, 0.00823,\n",
    "    0.00636, 0.00636, 0.00379, 0.00379, 0.00379, 0.00293,\n",
    "    0.00293, 0.00226, 0.00226, 0.00175, 0.00135, 0.00135,\n",
    "    0.00135, 0.00081, 0.00081, 0.00062, 0.00062, 0.00062,\n",
    "    0.00062, 0.00037, 0.00037, 0.00022, 0.00017\n",
    "]\n"
   ]
  },
  {
   "cell_type": "code",
   "execution_count": 145,
   "id": "775aed1d",
   "metadata": {},
   "outputs": [
    {
     "data": {
      "text/plain": [
       "array([ 5.,  5.,  5.,  5.,  6.,  6.,  6.,  6.,  6.,  7.,  7.,  7.,  7.,\n",
       "        7.,  8.,  8.,  8.,  8.,  8.,  9.,  9.,  9., 10., 10., 10., 10.,\n",
       "       10., 11., 11., 11., 11., 11., 11., 12., 13.])"
      ]
     },
     "execution_count": 145,
     "metadata": {},
     "output_type": "execute_result"
    }
   ],
   "source": [
    "np.round(-np.log2(p_i))"
   ]
  },
  {
   "cell_type": "code",
   "execution_count": 144,
   "id": "d0555d46",
   "metadata": {},
   "outputs": [
    {
     "data": {
      "text/plain": [
       "0.2757568359375"
      ]
     },
     "execution_count": 144,
     "metadata": {},
     "output_type": "execute_result"
    }
   ],
   "source": [
    "l_i = np.round(-np.log2(p_i))\n",
    "np.sum((2**(-l_i)))"
   ]
  },
  {
   "cell_type": "code",
   "execution_count": 147,
   "id": "78625605",
   "metadata": {},
   "outputs": [
    {
     "data": {
      "text/plain": [
       "12.024677973715656"
      ]
     },
     "execution_count": 147,
     "metadata": {},
     "output_type": "execute_result"
    }
   ],
   "source": [
    "-np.log2(0.00024)"
   ]
  },
  {
   "cell_type": "code",
   "execution_count": null,
   "id": "517ecf98",
   "metadata": {},
   "outputs": [],
   "source": []
  }
 ],
 "metadata": {
  "kernelspec": {
   "display_name": "Python (cv-qkd)",
   "language": "python",
   "name": "pcs-3.12.0"
  },
  "language_info": {
   "codemirror_mode": {
    "name": "ipython",
    "version": 3
   },
   "file_extension": ".py",
   "mimetype": "text/x-python",
   "name": "python",
   "nbconvert_exporter": "python",
   "pygments_lexer": "ipython3",
   "version": "3.12.0"
  }
 },
 "nbformat": 4,
 "nbformat_minor": 5
}
