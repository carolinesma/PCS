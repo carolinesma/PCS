{
 "cells": [
  {
   "cell_type": "code",
   "execution_count": 9,
   "id": "48af7915",
   "metadata": {},
   "outputs": [],
   "source": [
    "import sys\n",
    "sys.path.append('../src')"
   ]
  },
  {
   "cell_type": "code",
   "execution_count": 10,
   "id": "0cf0f712",
   "metadata": {},
   "outputs": [],
   "source": [
    "from arithmetic_coding import encode, decode"
   ]
  },
  {
   "cell_type": "code",
   "execution_count": 11,
   "id": "33ce2716",
   "metadata": {},
   "outputs": [
    {
     "name": "stdout",
     "output_type": "stream",
     "text": [
      "\n",
      "Símbolo Atual 1\n",
      "\n",
      "Intervalo encontrado\n",
      "Intervalo Fonte:\n",
      "Upper Bound: 1.0\n",
      "Lower Bound: 0.16666666666666663\n",
      "Intervalo Candidato:\n",
      "Upper Bound: 1.0\n",
      "Lower Bound: 0.4\n",
      "\n",
      "Símbolo Atual 0\n",
      "\n",
      "Código gerado:\n",
      "[1, 0, 1, 1]\n"
     ]
    }
   ],
   "source": [
    "# Exemplo\n",
    "P_code = {0: 0.4, 1: 0.6}\n",
    "P_source = {0: 0.5, 1: 0.5}\n",
    "sequence = [1, 0]\n",
    "\n",
    "code_sequence = encode(sequence, P_code, P_source)\n",
    "print(\"\\nCódigo gerado:\")\n",
    "print(code_sequence)\n"
   ]
  },
  {
   "cell_type": "code",
   "execution_count": 12,
   "id": "82aa8c8e",
   "metadata": {},
   "outputs": [
    {
     "name": "stdout",
     "output_type": "stream",
     "text": [
      "\n",
      "Símbolo Atual [1]\n",
      "Intervalo Candidato:\n",
      "Upper Bound: 1.0\n",
      "Lower Bound: 0.4\n",
      "Intervalo Fonte:\n",
      "Upper Bound: 1.0\n",
      "Lower Bound: 0.0\n",
      "\n",
      "Símbolo Atual [0]\n",
      "Intervalo Candidato:\n",
      "Upper Bound: 0.64\n",
      "Lower Bound: 0.4\n",
      "Intervalo Fonte:\n",
      "Upper Bound: 1.0\n",
      "Lower Bound: 0.0\n",
      "\n",
      "Símbolo Atual [1]\n",
      "Intervalo Candidato:\n",
      "Upper Bound: 0.64\n",
      "Lower Bound: 0.496\n",
      "Intervalo Fonte:\n",
      "Upper Bound: 1.0\n",
      "Lower Bound: 0.0\n",
      "\n",
      "Símbolo Atual [1]\n",
      "Intervalo Candidato:\n",
      "Upper Bound: 0.64\n",
      "Lower Bound: 0.5536\n",
      "Intervalo Fonte:\n",
      "Upper Bound: 1.0\n",
      "Lower Bound: 0.0\n",
      "\n",
      "-------------------------\n",
      "Simulação do Encoder\n",
      "\n",
      "Intervalo encontrado\n",
      "Intervalo Fonte:\n",
      "Upper Bound: 1.0\n",
      "Lower Bound: 0.16666666666666663\n",
      "Intervalo Candidato:\n",
      "Upper Bound: 1.0\n",
      "Lower Bound: 0.4\n",
      "-------------------------\n",
      "\n",
      "Símbolo Atual [0]\n",
      "Intervalo Candidato:\n",
      "Upper Bound: 0.4\n",
      "Lower Bound: 0.0\n",
      "Intervalo Fonte:\n",
      "Upper Bound: 1.0\n",
      "Lower Bound: 0.16666666666666663\n",
      "\n",
      "Sequência decodificada:\n",
      "[1, 0]\n"
     ]
    }
   ],
   "source": [
    "P_code = {0: 0.4, 1: 0.6}\n",
    "P_source = {0: 0.5, 1: 0.5}\n",
    "sequence_decoded = decode(code_sequence, P_source, P_code, len(sequence))\n",
    "print(\"\\nSequência decodificada:\")\n",
    "print(sequence_decoded)"
   ]
  }
 ],
 "metadata": {
  "kernelspec": {
   "display_name": "cvqkdms",
   "language": "python",
   "name": "python3"
  },
  "language_info": {
   "codemirror_mode": {
    "name": "ipython",
    "version": 3
   },
   "file_extension": ".py",
   "mimetype": "text/x-python",
   "name": "python",
   "nbconvert_exporter": "python",
   "pygments_lexer": "ipython3",
   "version": "3.12.3"
  }
 },
 "nbformat": 4,
 "nbformat_minor": 5
}
