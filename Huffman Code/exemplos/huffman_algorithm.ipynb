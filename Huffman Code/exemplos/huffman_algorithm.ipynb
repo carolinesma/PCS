{
 "cells": [
  {
   "cell_type": "code",
   "execution_count": 1,
   "id": "5f045124",
   "metadata": {},
   "outputs": [],
   "source": [
    "import sys\n",
    "sys.path.append('../src')"
   ]
  },
  {
   "cell_type": "code",
   "execution_count": null,
   "id": "9b390f13",
   "metadata": {},
   "outputs": [],
   "source": [
    "import numpy as np\n",
    "from typing import Dict, Optional, List, Tuple\n",
    "from utils import Node, OrderedQueue\n",
    "from huffman_code import HuffmanTree\n",
    "from huffman_shaping import HuffmanShaping"
   ]
  },
  {
   "cell_type": "code",
   "execution_count": 3,
   "id": "196fed3c",
   "metadata": {},
   "outputs": [],
   "source": [
    "def print_huffman_tree(node, level=0):\n",
    "    if node is not None:\n",
    "        # Imprime o nó atual com indentação baseada no nível\n",
    "        print(\"  \" * level + f\"{level} Frequência: {node.frequency}\")\n",
    "        \n",
    "        # Recursivamente imprime os filhos (esquerda e direita)\n",
    "        print_huffman_tree(node.left, level + 1)\n",
    "        print_huffman_tree(node.right, level + 1)"
   ]
  },
  {
   "cell_type": "markdown",
   "id": "c602e7ca",
   "metadata": {},
   "source": [
    "#### Exemplo Huffman Shapping - Artigo do Ungerboeck "
   ]
  },
  {
   "cell_type": "markdown",
   "id": "57a0b055",
   "metadata": {},
   "source": [
    "##### Dados"
   ]
  },
  {
   "cell_type": "code",
   "execution_count": 4,
   "id": "f0b53a49",
   "metadata": {},
   "outputs": [],
   "source": [
    "symbols = list(range(32))\n",
    "\n",
    "frequencies = np.array([\n",
    "    0.03872, 0.02991, 0.02991, 0.02311, 0.01785, 0.01785,\n",
    "    0.01379, 0.01379, 0.00823, 0.00823, 0.00823, 0.00636, \n",
    "    0.00636, 0.00379, 0.00379, 0.00293, 0.00293, 0.00226, \n",
    "    0.00226, 0.00175, 0.00135, 0.00135, 0.00081, 0.00081, \n",
    "    0.00062, 0.00062, 0.00062, 0.00062, 0.00037, 0.00037, \n",
    "    0.00022, 0.00017\n",
    "])\n",
    "\n",
    "p_i_n = np.array([\n",
    "    0.03125, 0.03125, 0.03125, 0.03125,\n",
    "    0.01563, 0.01563, 0.01563, 0.01563,\n",
    "    0.00781, 0.00781, 0.00781, 0.00781,\n",
    "    0.00781, 0.00391, 0.00391, 0.00195, \n",
    "    0.00195, 0.00195, 0.00195, 0.00195,\n",
    "    0.00098, 0.00098, 0.00049, 0.00049, \n",
    "    0.00049, 0.00049, 0.00049, 0.00049,\n",
    "    0.00024, 0.00024, 0.00024, 0.00024\n",
    "])"
   ]
  },
  {
   "cell_type": "markdown",
   "id": "e5779835",
   "metadata": {},
   "source": [
    "##### Huffman Code"
   ]
  },
  {
   "cell_type": "code",
   "execution_count": 5,
   "id": "bc8c8e05",
   "metadata": {},
   "outputs": [
    {
     "name": "stdout",
     "output_type": "stream",
     "text": [
      "0 | 0.03872 | 000\n",
      "1 | 0.02991 | 100\n",
      "2 | 0.02991 | 011\n",
      "3 | 0.02311 | 111\n",
      "4 | 0.01785 | 0100\n",
      "5 | 0.01785 | 0011\n",
      "6 | 0.01379 | 1100\n",
      "7 | 0.01379 | 1011\n",
      "8 | 0.00823 | 10100\n",
      "9 | 0.00823 | 01011\n",
      "10 | 0.00823 | 01010\n",
      "11 | 0.00636 | 11011\n",
      "12 | 0.00636 | 11010\n",
      "13 | 0.00379 | 101011\n",
      "14 | 0.00379 | 101010\n",
      "15 | 0.00293 | 0010010\n",
      "16 | 0.00293 | 0010001\n",
      "17 | 0.00226 | 0010101\n",
      "18 | 0.00226 | 0010100\n",
      "19 | 0.00175 | 0010111\n",
      "20 | 0.00135 | 00100111\n",
      "21 | 0.00135 | 00100110\n",
      "22 | 0.00081 | 001000001\n",
      "23 | 0.00081 | 001000000\n",
      "24 | 0.00062 | 001011010\n",
      "25 | 0.00062 | 001011001\n",
      "26 | 0.00062 | 001011000\n",
      "27 | 0.00062 | 001000011\n",
      "28 | 0.00037 | 0010000101\n",
      "29 | 0.00037 | 0010000100\n",
      "30 | 0.00022 | 0010110110\n",
      "31 | 0.00017 | 0010110111\n"
     ]
    }
   ],
   "source": [
    "tree = HuffmanTree(symbols, frequencies)\n",
    "\n",
    "codebook = tree.codebook\n",
    "codebook.sort(key=lambda node: node.symbol)\n",
    "for c in codebook:\n",
    "    print(f\"{c.symbol} | {c.frequency} | {c.code}\")\n",
    "# for s, info in sorted(codebook.items()):\n",
    "#     print(f\"{s} | {info['frequency']:.5f} | {info['code']}\")"
   ]
  },
  {
   "cell_type": "markdown",
   "id": "99c86bb5",
   "metadata": {},
   "source": [
    "##### Huffman Shaping"
   ]
  },
  {
   "cell_type": "code",
   "execution_count": 6,
   "id": "e882b20d",
   "metadata": {},
   "outputs": [
    {
     "name": "stdout",
     "output_type": "stream",
     "text": [
      "0 | 0.03872 | 00000\n",
      "1 | 0.02991 | 10000\n",
      "2 | 0.02991 | 01100\n",
      "3 | 0.02311 | 11100\n",
      "4 | 0.01785 | 010000\n",
      "5 | 0.01785 | 001100\n",
      "6 | 0.01379 | 110000\n",
      "7 | 0.01379 | 101100\n",
      "8 | 0.00823 | 1010000\n",
      "9 | 0.00823 | 0101100\n",
      "10 | 0.00823 | 0101000\n",
      "11 | 0.00636 | 1101100\n",
      "12 | 0.00636 | 1101000\n",
      "13 | 0.00379 | 10101100\n",
      "14 | 0.00379 | 10101000\n",
      "15 | 0.00293 | 001001000\n",
      "16 | 0.00293 | 001000100\n",
      "17 | 0.00226 | 001010100\n",
      "18 | 0.00226 | 001010000\n",
      "19 | 0.00175 | 001011100\n",
      "20 | 0.00135 | 0010011100\n",
      "21 | 0.00135 | 0010011000\n",
      "22 | 0.00081 | 00100000100\n",
      "23 | 0.00081 | 00100000000\n",
      "24 | 0.00062 | 00101101000\n",
      "25 | 0.00062 | 00101100100\n",
      "26 | 0.00062 | 00101100000\n",
      "27 | 0.00062 | 00100001100\n",
      "28 | 0.00037 | 001000010100\n",
      "29 | 0.00037 | 001000010000\n",
      "30 | 0.00022 | 001011011000\n",
      "31 | 0.00017 | 001011011100\n",
      "32 | 0.03872 | 00001\n",
      "33 | 0.02991 | 10001\n",
      "34 | 0.02991 | 01101\n",
      "35 | 0.02311 | 11101\n",
      "36 | 0.01785 | 010001\n",
      "37 | 0.01785 | 001101\n",
      "38 | 0.01379 | 110001\n",
      "39 | 0.01379 | 101101\n",
      "40 | 0.00823 | 1010001\n",
      "41 | 0.00823 | 0101101\n",
      "42 | 0.00823 | 0101001\n",
      "43 | 0.00636 | 1101101\n",
      "44 | 0.00636 | 1101001\n",
      "45 | 0.00379 | 10101101\n",
      "46 | 0.00379 | 10101001\n",
      "47 | 0.00293 | 001001001\n",
      "48 | 0.00293 | 001000101\n",
      "49 | 0.00226 | 001010101\n",
      "50 | 0.00226 | 001010001\n",
      "51 | 0.00175 | 001011101\n",
      "52 | 0.00135 | 0010011101\n",
      "53 | 0.00135 | 0010011001\n",
      "54 | 0.00081 | 00100000101\n",
      "55 | 0.00081 | 00100000001\n",
      "56 | 0.00062 | 00101101001\n",
      "57 | 0.00062 | 00101100101\n",
      "58 | 0.00062 | 00101100001\n",
      "59 | 0.00062 | 00100001101\n",
      "60 | 0.00037 | 001000010101\n",
      "61 | 0.00037 | 001000010001\n",
      "62 | 0.00022 | 001011011001\n",
      "63 | 0.00017 | 001011011101\n",
      "64 | 0.03872 | 00010\n",
      "65 | 0.02991 | 10010\n",
      "66 | 0.02991 | 01110\n",
      "67 | 0.02311 | 11110\n",
      "68 | 0.01785 | 010010\n",
      "69 | 0.01785 | 001110\n",
      "70 | 0.01379 | 110010\n",
      "71 | 0.01379 | 101110\n",
      "72 | 0.00823 | 1010010\n",
      "73 | 0.00823 | 0101110\n",
      "74 | 0.00823 | 0101010\n",
      "75 | 0.00636 | 1101110\n",
      "76 | 0.00636 | 1101010\n",
      "77 | 0.00379 | 10101110\n",
      "78 | 0.00379 | 10101010\n",
      "79 | 0.00293 | 001001010\n",
      "80 | 0.00293 | 001000110\n",
      "81 | 0.00226 | 001010110\n",
      "82 | 0.00226 | 001010010\n",
      "83 | 0.00175 | 001011110\n",
      "84 | 0.00135 | 0010011110\n",
      "85 | 0.00135 | 0010011010\n",
      "86 | 0.00081 | 00100000110\n",
      "87 | 0.00081 | 00100000010\n",
      "88 | 0.00062 | 00101101010\n",
      "89 | 0.00062 | 00101100110\n",
      "90 | 0.00062 | 00101100010\n",
      "91 | 0.00062 | 00100001110\n",
      "92 | 0.00037 | 001000010110\n",
      "93 | 0.00037 | 001000010010\n",
      "94 | 0.00022 | 001011011010\n",
      "95 | 0.00017 | 001011011110\n",
      "96 | 0.03872 | 00011\n",
      "97 | 0.02991 | 10011\n",
      "98 | 0.02991 | 01111\n",
      "99 | 0.02311 | 11111\n",
      "100 | 0.01785 | 010011\n",
      "101 | 0.01785 | 001111\n",
      "102 | 0.01379 | 110011\n",
      "103 | 0.01379 | 101111\n",
      "104 | 0.00823 | 1010011\n",
      "105 | 0.00823 | 0101111\n",
      "106 | 0.00823 | 0101011\n",
      "107 | 0.00636 | 1101111\n",
      "108 | 0.00636 | 1101011\n",
      "109 | 0.00379 | 10101111\n",
      "110 | 0.00379 | 10101011\n",
      "111 | 0.00293 | 001001011\n",
      "112 | 0.00293 | 001000111\n",
      "113 | 0.00226 | 001010111\n",
      "114 | 0.00226 | 001010011\n",
      "115 | 0.00175 | 001011111\n",
      "116 | 0.00135 | 0010011111\n",
      "117 | 0.00135 | 0010011011\n",
      "118 | 0.00081 | 00100000111\n",
      "119 | 0.00081 | 00100000011\n",
      "120 | 0.00062 | 00101101011\n",
      "121 | 0.00062 | 00101100111\n",
      "122 | 0.00062 | 00101100011\n",
      "123 | 0.00062 | 00100001111\n",
      "124 | 0.00037 | 001000010111\n",
      "125 | 0.00037 | 001000010011\n",
      "126 | 0.00022 | 001011011011\n",
      "127 | 0.00017 | 001011011111\n"
     ]
    }
   ],
   "source": [
    "tree_shaping = HuffmanShaping(symbols, frequencies)\n",
    "expand_codebook = tree_shaping.expanded_codebook\n",
    "expand_codebook.sort(key=lambda node: node.symbol)\n",
    "for c in expand_codebook:\n",
    "    print(f\"{c.symbol} | {c.frequency:.5f} | {c.code}\")"
   ]
  },
  {
   "cell_type": "code",
   "execution_count": 7,
   "id": "7a05613f",
   "metadata": {},
   "outputs": [
    {
     "name": "stdout",
     "output_type": "stream",
     "text": [
      "O código é prefixo-free!\n"
     ]
    }
   ],
   "source": [
    "result, prefix, full = tree_shaping.is_prefix_free()\n",
    "\n",
    "if result:\n",
    "    print(\"O código é prefixo-free!\")\n",
    "else:\n",
    "    print(f\"O código '{prefix}' é prefixo de '{full}', então não é prefixo-free.\")"
   ]
  },
  {
   "cell_type": "code",
   "execution_count": 8,
   "id": "9988c490",
   "metadata": {},
   "outputs": [
    {
     "name": "stdout",
     "output_type": "stream",
     "text": [
      "Símbolos: [97, 33, 83, 3, 37, 2, 111, 12, 69, 64] ...\n",
      "Bits codificados: 1001110001001011110111000011010110000100101111010000011100001001011001010110001111011111110100110101 ...\n",
      "Decodificado: [97, 33, 83, 3, 37, 2, 111, 12, 69, 64] ...\n",
      "Acurácia: 100.00%\n"
     ]
    }
   ],
   "source": [
    "input_data = np.random.choice(len(frequencies)*4, size=1000, p=np.tile(frequencies, 4)/(frequencies.sum()*4))\n",
    "print(f\"Símbolos: {list(input_data[:10])} ...\")\n",
    "\n",
    "bitstream = ''.join([expand_codebook[i].code for i in input_data])\n",
    "print(\"Bits codificados:\", bitstream[:100], \"...\")\n",
    "\n",
    "output_data = tree_shaping.decode_with_codebook(bitstream)\n",
    "print(f\"Decodificado: {list(input_data[:10])} ...\")\n",
    "\n",
    "acuracia = np.mean(input_data == output_data)\n",
    "print(f\"Acurácia: {acuracia * 100:.2f}%\")"
   ]
  },
  {
   "cell_type": "markdown",
   "id": "cf301f22",
   "metadata": {},
   "source": [
    "#### Exemplo 2"
   ]
  },
  {
   "cell_type": "code",
   "execution_count": 9,
   "id": "48a945ff",
   "metadata": {},
   "outputs": [
    {
     "name": "stdout",
     "output_type": "stream",
     "text": [
      "0 | 0.06250 | 0011\n",
      "1 | 0.06250 | 0010\n",
      "2 | 0.06250 | 0001\n",
      "3 | 0.06250 | 0000\n",
      "4 | 0.12500 | 101\n",
      "5 | 0.12500 | 100\n",
      "6 | 0.12500 | 011\n",
      "7 | 0.12500 | 010\n",
      "8 | 0.25000 | 11\n",
      "\n",
      "-----------------------\n",
      "\n",
      "0 Frequência: 1.0\n",
      "  1 Frequência: 0.5\n",
      "    2 Frequência: 0.25\n",
      "    2 Frequência: 0.25\n",
      "      3 Frequência: 0.125\n",
      "      3 Frequência: 0.125\n",
      "  1 Frequência: 0.5\n",
      "    2 Frequência: 0.25\n",
      "      3 Frequência: 0.125\n",
      "      3 Frequência: 0.125\n",
      "    2 Frequência: 0.25\n",
      "      3 Frequência: 0.125\n",
      "        4 Frequência: 0.0625\n",
      "        4 Frequência: 0.0625\n",
      "      3 Frequência: 0.125\n",
      "        4 Frequência: 0.0625\n",
      "        4 Frequência: 0.0625\n"
     ]
    }
   ],
   "source": [
    "# exemplo 3\n",
    "freq = np.array([1/16,1/16,1/16,1/16,1/8,1/8, 1/8,1/8,1/4])\n",
    "s = range(0,9)\n",
    "tree = HuffmanTree(s, freq)\n",
    "\n",
    "codes = tree.get_codebook()\n",
    "\n",
    "codes.sort(key=lambda node: node.symbol)\n",
    "for c in codes:\n",
    "    print(f\"{c.symbol} | {c.frequency:.5f} | {c.code}\")\n",
    "\n",
    "print(\"\\n-----------------------\\n\")\n",
    "print_huffman_tree(tree.root)"
   ]
  }
 ],
 "metadata": {
  "kernelspec": {
   "display_name": "Python (pcs-3.12)",
   "language": "python",
   "name": "pcs-3.12.0"
  },
  "language_info": {
   "codemirror_mode": {
    "name": "ipython",
    "version": 3
   },
   "file_extension": ".py",
   "mimetype": "text/x-python",
   "name": "python",
   "nbconvert_exporter": "python",
   "pygments_lexer": "ipython3",
   "version": "3.12.0"
  }
 },
 "nbformat": 4,
 "nbformat_minor": 5
}
