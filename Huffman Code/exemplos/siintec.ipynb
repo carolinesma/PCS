{
 "cells": [
  {
   "cell_type": "code",
   "execution_count": null,
   "id": "e3bb9fac",
   "metadata": {},
   "outputs": [],
   "source": [
    "import numpy as np\n",
    "import matplotlib.pyplot as plt\n",
    "from scipy.special import comb\n",
    "from numpy.polynomial.hermite import hermgauss"
   ]
  },
  {
   "cell_type": "code",
   "execution_count": null,
   "id": "94b7b67e",
   "metadata": {},
   "outputs": [],
   "source": [
    "# === 1. Gauss-Hermite ===\n",
    "# Ajusta o número de pontos para corresponder ao número de símbolos\n",
    "def gauss_hermite_pmf(n_symbols):\n",
    "    x, w = hermgauss(n_symbols)\n",
    "    w = w / np.sum(w)\n",
    "    # Normaliza símbolos para ter mesmo suporte\n",
    "    x_scaled = np.linspace(symbols[0], symbols[-1], n_symbols)\n",
    "    return x_scaled, w\n",
    "\n",
    "gh_x, gh_pmf = gauss_hermite_pmf(len(symbols))\n",
    "\n",
    "# === 2. Binomial ===\n",
    "def binomial_pmf(symbols):\n",
    "    n = (len(symbols) - 1) // 2\n",
    "    pmf = np.array([comb(2*n, n + s) for s in symbols]) / 2**(2*n)\n",
    "    return pmf\n",
    "\n",
    "binom_pmf = binomial_pmf(symbols)\n",
    "\n",
    "# === 3. Gaussiana Discreta ===\n",
    "def discrete_gaussian_pmf(symbols, sigma):\n",
    "    probs = np.exp(-symbols**2 / (2 * sigma**2))\n",
    "    return probs / np.sum(probs)"
   ]
  }
 ],
 "metadata": {
  "language_info": {
   "name": "python"
  }
 },
 "nbformat": 4,
 "nbformat_minor": 5
}
