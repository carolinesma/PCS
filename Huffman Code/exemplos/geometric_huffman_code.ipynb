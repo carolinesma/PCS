{
 "cells": [
  {
   "cell_type": "code",
   "execution_count": 1,
   "id": "e40b16e1",
   "metadata": {},
   "outputs": [],
   "source": [
    "import sys\n",
    "sys.path.append('../src')"
   ]
  },
  {
   "cell_type": "code",
   "execution_count": 2,
   "id": "cc620f59",
   "metadata": {},
   "outputs": [],
   "source": [
    "import numpy as np\n",
    "from utils import Node, OrderedQueue\n",
    "from geometric_huffman_code import GeometricHuffmanCode"
   ]
  },
  {
   "cell_type": "markdown",
   "id": "12360944",
   "metadata": {},
   "source": [
    "#### Gera distribuição diádica com Geometric Huffman Code"
   ]
  },
  {
   "cell_type": "code",
   "execution_count": 3,
   "id": "b3912090",
   "metadata": {},
   "outputs": [],
   "source": [
    "frequencies = np.array([0.328, 0.32, 0.22, 0.11, 0.022])\n",
    "frequencies.sort()\n",
    "geometric_tree = GeometricHuffmanCode(frequencies)"
   ]
  },
  {
   "cell_type": "code",
   "execution_count": 4,
   "id": "6485b0c3",
   "metadata": {},
   "outputs": [
    {
     "name": "stdout",
     "output_type": "stream",
     "text": [
      "[ True False False False False]\n",
      "New distribution = [0, 0.125, 0.125, 0.25, 0.5]\n"
     ]
    }
   ],
   "source": [
    "print(geometric_tree.cut_tree)\n",
    "print(f\"New distribution = {geometric_tree.dyadic_distribution}\")"
   ]
  },
  {
   "cell_type": "code",
   "execution_count": 5,
   "id": "84cd230e",
   "metadata": {},
   "outputs": [
    {
     "name": "stdout",
     "output_type": "stream",
     "text": [
      "1 | 0.125 | 111\n",
      "2 | 0.125 | 110\n",
      "3 | 0.25 | 10\n",
      "4 | 0.5 | 0\n"
     ]
    }
   ],
   "source": [
    "codebook = geometric_tree.codebook\n",
    "for c in codebook:\n",
    "    print(f\"{c.symbol} | {c.frequency} | {c.code}\")"
   ]
  }
 ],
 "metadata": {
  "kernelspec": {
   "display_name": "Python (pcs-3.12)",
   "language": "python",
   "name": "pcs-3.12.0"
  },
  "language_info": {
   "codemirror_mode": {
    "name": "ipython",
    "version": 3
   },
   "file_extension": ".py",
   "mimetype": "text/x-python",
   "name": "python",
   "nbconvert_exporter": "python",
   "pygments_lexer": "ipython3",
   "version": "3.12.0"
  }
 },
 "nbformat": 4,
 "nbformat_minor": 5
}
