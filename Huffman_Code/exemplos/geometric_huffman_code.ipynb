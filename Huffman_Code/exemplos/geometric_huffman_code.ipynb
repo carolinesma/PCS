{
 "cells": [
  {
   "cell_type": "code",
   "execution_count": 1,
   "id": "cc620f59",
   "metadata": {},
   "outputs": [],
   "source": [
    "import numpy as np\n",
    "from Huffman_Code import HuffmanShaping, GeometricHuffmanCode"
   ]
  },
  {
   "cell_type": "code",
   "execution_count": 2,
   "id": "03babe4d",
   "metadata": {},
   "outputs": [],
   "source": [
    "def print_huffman_tree(node, level=0):\n",
    "    if node is not None:\n",
    "        # Imprime o nó atual com indentação baseada no nível\n",
    "        print(\"  \" * level + f\"{level} Frequência: {node.frequency}\")\n",
    "        \n",
    "        # Recursivamente imprime os filhos (esquerda e direita)\n",
    "        print_huffman_tree(node.left, level + 1)\n",
    "        print_huffman_tree(node.right, level + 1)"
   ]
  },
  {
   "cell_type": "markdown",
   "id": "12360944",
   "metadata": {},
   "source": [
    "#### Gera distribuição diádica com Geometric Huffman Code"
   ]
  },
  {
   "cell_type": "code",
   "execution_count": 3,
   "id": "b3912090",
   "metadata": {},
   "outputs": [],
   "source": [
    "distribution = np.array([0.328, 0.32, 0.22, 0.11, 0.022])\n",
    "#distribution = [0.00011, 0.00964, 0.11724, 0.37301, 0.37301, 0.11724, 0.00964, 0.00011]\n",
    "symbols = list(range(len(distribution)))\n",
    "geometric_tree = GeometricHuffmanCode(symbols, distribution)"
   ]
  },
  {
   "cell_type": "code",
   "execution_count": 4,
   "id": "6485b0c3",
   "metadata": {},
   "outputs": [
    {
     "name": "stdout",
     "output_type": "stream",
     "text": [
      "[ True False False False]\n",
      "New distribution = [0, 0.125, 0.125, 0.25, 0.5]\n"
     ]
    }
   ],
   "source": [
    "print(geometric_tree.cut_tree)\n",
    "output_distribution = geometric_tree.dyadic_distribution\n",
    "print(f\"New distribution = {output_distribution}\")"
   ]
  },
  {
   "cell_type": "code",
   "execution_count": 5,
   "id": "16e04ab4",
   "metadata": {},
   "outputs": [
    {
     "name": "stdout",
     "output_type": "stream",
     "text": [
      "0 | 0.50000 | 0\n",
      "1 | 0.25000 | 11\n",
      "2 | 0.12500 | 101\n",
      "3 | 0.12500 | 100\n"
     ]
    }
   ],
   "source": [
    "geometric_tree.codebook.sort(key=lambda node: node.symbol)\n",
    "for c in geometric_tree.codebook:\n",
    "    print(f\"{c.symbol} | {c.frequency:.5f} | {c.code}\")"
   ]
  },
  {
   "cell_type": "code",
   "execution_count": 6,
   "id": "3b338162",
   "metadata": {},
   "outputs": [],
   "source": [
    "distribution_Ungerboeck = np.array([\n",
    "    0.03872, 0.02991, 0.02991, 0.02311, 0.01785, 0.01785,\n",
    "    0.01379, 0.01379, 0.00823, 0.00823, 0.00823, 0.00636, \n",
    "    0.00636, 0.00379, 0.00379, 0.00293, 0.00293, 0.00226, \n",
    "    0.00226, 0.00175, 0.00135, 0.00135, 0.00081, 0.00081, \n",
    "    0.00062, 0.00062, 0.00062, 0.00062, 0.00037, 0.00037, \n",
    "    0.00022, 0.00017\n",
    "])\n",
    "\n",
    "symbols = list(range(len(distribution_Ungerboeck)))"
   ]
  },
  {
   "cell_type": "code",
   "execution_count": 7,
   "id": "60beb653",
   "metadata": {},
   "outputs": [
    {
     "name": "stdout",
     "output_type": "stream",
     "text": [
      "New distribution = [0.00098 0.00098 0.00098 0.00098 0.00195 0.00195 0.00195 0.00195 0.00195\n",
      " 0.00195 0.00391 0.00391 0.00781 0.00781 0.00781 0.00781 0.00781 0.01562\n",
      " 0.01562 0.03125 0.03125 0.03125 0.03125 0.03125 0.0625  0.0625  0.0625\n",
      " 0.0625  0.125   0.125   0.125   0.125  ]\n"
     ]
    }
   ],
   "source": [
    "geometric_tree = GeometricHuffmanCode(symbols, distribution_Ungerboeck)\n",
    "output_distribution = np.sort((geometric_tree.dyadic_distribution))\n",
    "print(f\"New distribution = {np.round(output_distribution, 5)}\")"
   ]
  },
  {
   "cell_type": "code",
   "execution_count": null,
   "id": "90cbc41b",
   "metadata": {},
   "outputs": [],
   "source": []
  }
 ],
 "metadata": {
  "kernelspec": {
   "display_name": "Python (pcs)",
   "language": "python",
   "name": "pcs-3.12.0"
  },
  "language_info": {
   "codemirror_mode": {
    "name": "ipython",
    "version": 3
   },
   "file_extension": ".py",
   "mimetype": "text/x-python",
   "name": "python",
   "nbconvert_exporter": "python",
   "pygments_lexer": "ipython3",
   "version": "3.12.0"
  }
 },
 "nbformat": 4,
 "nbformat_minor": 5
}
